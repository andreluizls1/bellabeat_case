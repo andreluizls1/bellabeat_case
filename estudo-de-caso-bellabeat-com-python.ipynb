{
 "cells": [
  {
   "cell_type": "markdown",
   "id": "6ce5e204",
   "metadata": {
    "papermill": {
     "duration": 0.015375,
     "end_time": "2024-01-16T02:15:15.746786",
     "exception": false,
     "start_time": "2024-01-16T02:15:15.731411",
     "status": "completed"
    },
    "tags": []
   },
   "source": [
    "# Estudo de caso 2: Como uma empresa de tecnologia de bem-estar pode agir com inteligência?\n",
    "\n",
    "\n"
   ]
  },
  {
   "cell_type": "markdown",
   "id": "54871688",
   "metadata": {
    "papermill": {
     "duration": 0.014661,
     "end_time": "2024-01-16T02:15:15.776440",
     "exception": false,
     "start_time": "2024-01-16T02:15:15.761779",
     "status": "completed"
    },
    "tags": []
   },
   "source": [
    "### Sobre a companhia, os produtos e a tarefa de negócio\n",
    "\n",
    "Bellabeat é uma empresa de alta tecnologia, que fabrica produtos inteligentes focados na saúde. Os produtos (dispositivos e aplicativo), trabalham no rastreamento de hábitos diários de seus usuários. Os fundadores da empresa, Urška Sršen e Sando Mur acreditam que a análise dos dados de outros dispositivos podem relevar insights e um norte para o marketing e desenvolvimento da empresa."
   ]
  },
  {
   "cell_type": "markdown",
   "id": "a4817b17",
   "metadata": {
    "papermill": {
     "duration": 0.014625,
     "end_time": "2024-01-16T02:15:15.806029",
     "exception": false,
     "start_time": "2024-01-16T02:15:15.791404",
     "status": "completed"
    },
    "tags": []
   },
   "source": [
    "### Os produtos Bellabeat\n",
    "\n",
    "A Bellabeat conta com os seguintes produtos:\n",
    "\n",
    "* Aplicativo Bellabeat: O aplicativo Bellabeat fornece aos usuários dados de saúde relacionados à sua atividade, sono, estresse, ciclo menstrual e hábitos de atenção plena. Esses dados podem ajudar os usuários a entender melhor seus hábitos atuais e tomar decisões saudáveis. O aplicativo Bellabeat se conecta à sua linha de produtos inteligentes de bem-estar.\n",
    "* Leaf: O rastreador de bem-estar clássico da Bellabeat pode ser usado como pulseira, colar ou clipe. O rastreador Leaf se conecta ao aplicativo Bellabeat para rastrear a atividade, o sono e o estresse.\n",
    "* Time: Este relógio de bem-estar combina a aparência atemporal de um relógio clássico com tecnologia inteligente para rastrear a atividade, o sono e o estresse do usuário. O relógio Time se conecta ao aplicativo Bellabeat para fornecer informações sobre seu bem-estar diário.\n",
    "* Spring: Esta é uma garrafa de água que rastreia a ingestão diária de água por meio de tecnologia inteligente para garantir que você esteja adequadamente hidratado ao longo do dia. A garrafa Spring se conecta ao aplicativo Bellabeat para rastrear seus níveis de hidratação.\n",
    "* Planos da Bellabeat: A Bellabeat também oferece aos usuários diferentes planos de assinatura. As assinaturas oferecem aos usuários acesso 24 horas por dia, 7 dias por semana, orientação totalmente personalizada sobre nutrição, atividade, sono, saúde e beleza, além de atenção plena com base em seu estilo de vida e objetivos."
   ]
  },
  {
   "cell_type": "markdown",
   "id": "67208909",
   "metadata": {
    "papermill": {
     "duration": 0.014703,
     "end_time": "2024-01-16T02:15:15.835261",
     "exception": false,
     "start_time": "2024-01-16T02:15:15.820558",
     "status": "completed"
    },
    "tags": []
   },
   "source": [
    "### A tarefa de negócio\n",
    "\n",
    "Dessa forma a análise será feita a partir dos dados de outros diposisitvos semelhantes.A análise partirá das seguintes questões:\n",
    "\n",
    "1. Quais são algumas das tendências no uso de dispositivos inteligentes?\n",
    "2. Como essas tendências podem se aplicar aos clientes da Bellabeat?\n",
    "3. Como essas tendências podem ajudar a influenciar a estratégia de marketing da Bellabeat?\n",
    "\n",
    "Então nossa tarefa de negócio é: Identificar oportunidades de melhora dos dipositivos Bellabeat, e de marketing através das tendências no uso de dispositivos semelhantes. **Com a tarefa de negócios identificada e cumprindo o papel de Perguntar, a análise seguirá os seis passos de análise propostos no Curso Google Data Analytics, perguntar, preparar, processar, analisar, compartilhar e agir.**"
   ]
  },
  {
   "cell_type": "markdown",
   "id": "a133af3b",
   "metadata": {
    "papermill": {
     "duration": 0.015008,
     "end_time": "2024-01-16T02:15:15.865798",
     "exception": false,
     "start_time": "2024-01-16T02:15:15.850790",
     "status": "completed"
    },
    "tags": []
   },
   "source": [
    "## Preparar: começando a trabalhar os dados\n",
    "\n",
    "Urška Sršen indicou usar dados públicos que exploram os hábitos diários dos usuários de dispositivos inteligentes. Ela o direciona a um conjunto de dados específico, os dados do rastreador de condicionamento FitBit disponíveis no Kaggle. Os dados são disponibilizados por Mobius, são de domínio público, e contém as estatisticas de uso de 30 usuários que consentiram com o registro de atividade física, sono, e frequência cardíaca.\n",
    "\n",
    "Algumas observações são importantes:\n",
    "\n",
    "* Os dados foram colhidos entre 03 e 05 de dezembro de 2016;\n",
    "* Os dados cobrem somente cerca de 30 usuários, o que tende a ser uma amostra pequena;\n",
    "* Os dados incluem estatisticas em nível diário, por hora, por minutos, e um para registro de peso e índice de massa corporal."
   ]
  },
  {
   "cell_type": "code",
   "execution_count": 1,
   "id": "9e825bdc",
   "metadata": {
    "execution": {
     "iopub.execute_input": "2024-01-16T02:15:15.897966Z",
     "iopub.status.busy": "2024-01-16T02:15:15.897299Z",
     "iopub.status.idle": "2024-01-16T02:15:17.965422Z",
     "shell.execute_reply": "2024-01-16T02:15:17.964302Z"
    },
    "papermill": {
     "duration": 2.087749,
     "end_time": "2024-01-16T02:15:17.968123",
     "exception": false,
     "start_time": "2024-01-16T02:15:15.880374",
     "status": "completed"
    },
    "tags": []
   },
   "outputs": [],
   "source": [
    "# O primeiro passo é importar as bibliotecas que serão utilizadas\n",
    "\n",
    "import pandas as pd\n",
    "import seaborn as sns\n",
    "import matplotlib.pyplot as plt"
   ]
  },
  {
   "cell_type": "code",
   "execution_count": 2,
   "id": "a0ad511c",
   "metadata": {
    "execution": {
     "iopub.execute_input": "2024-01-16T02:15:18.002126Z",
     "iopub.status.busy": "2024-01-16T02:15:18.000562Z",
     "iopub.status.idle": "2024-01-16T02:15:18.130828Z",
     "shell.execute_reply": "2024-01-16T02:15:18.129887Z"
    },
    "papermill": {
     "duration": 0.149702,
     "end_time": "2024-01-16T02:15:18.133773",
     "exception": false,
     "start_time": "2024-01-16T02:15:17.984071",
     "status": "completed"
    },
    "tags": []
   },
   "outputs": [],
   "source": [
    "# Agora deve ser feita a importações dos dataframes que serão utilizados\n",
    "# Em uma análise prévia dos arquivos, decidi usar as atividades diárias, calorias por hora, intensidade por hora, sono diário e peso. \n",
    "\n",
    "atividade_diaria = pd.read_csv('/kaggle/input/fitbit/Fitabase Data 4.12.16-5.12.16/dailyActivity_merged.csv')\n",
    "calorias = pd.read_csv('/kaggle/input/fitbit/Fitabase Data 4.12.16-5.12.16/hourlyCalories_merged.csv')\n",
    "intensidade = pd.read_csv('/kaggle/input/fitbit/Fitabase Data 4.12.16-5.12.16/hourlyIntensities_merged.csv')\n",
    "sono = pd.read_csv('/kaggle/input/fitbit/Fitabase Data 4.12.16-5.12.16/sleepDay_merged.csv')\n",
    "peso = pd.read_csv('/kaggle/input/fitbit/Fitabase Data 4.12.16-5.12.16/weightLogInfo_merged.csv')\n"
   ]
  },
  {
   "cell_type": "code",
   "execution_count": 3,
   "id": "975cb943",
   "metadata": {
    "execution": {
     "iopub.execute_input": "2024-01-16T02:15:18.166534Z",
     "iopub.status.busy": "2024-01-16T02:15:18.165716Z",
     "iopub.status.idle": "2024-01-16T02:15:18.203829Z",
     "shell.execute_reply": "2024-01-16T02:15:18.202874Z"
    },
    "papermill": {
     "duration": 0.057299,
     "end_time": "2024-01-16T02:15:18.206539",
     "exception": false,
     "start_time": "2024-01-16T02:15:18.149240",
     "status": "completed"
    },
    "tags": []
   },
   "outputs": [
    {
     "name": "stdout",
     "output_type": "stream",
     "text": [
      "<class 'pandas.core.frame.DataFrame'>\n",
      "RangeIndex: 940 entries, 0 to 939\n",
      "Data columns (total 15 columns):\n",
      " #   Column                    Non-Null Count  Dtype  \n",
      "---  ------                    --------------  -----  \n",
      " 0   Id                        940 non-null    int64  \n",
      " 1   ActivityDate              940 non-null    object \n",
      " 2   TotalSteps                940 non-null    int64  \n",
      " 3   TotalDistance             940 non-null    float64\n",
      " 4   TrackerDistance           940 non-null    float64\n",
      " 5   LoggedActivitiesDistance  940 non-null    float64\n",
      " 6   VeryActiveDistance        940 non-null    float64\n",
      " 7   ModeratelyActiveDistance  940 non-null    float64\n",
      " 8   LightActiveDistance       940 non-null    float64\n",
      " 9   SedentaryActiveDistance   940 non-null    float64\n",
      " 10  VeryActiveMinutes         940 non-null    int64  \n",
      " 11  FairlyActiveMinutes       940 non-null    int64  \n",
      " 12  LightlyActiveMinutes      940 non-null    int64  \n",
      " 13  SedentaryMinutes          940 non-null    int64  \n",
      " 14  Calories                  940 non-null    int64  \n",
      "dtypes: float64(7), int64(7), object(1)\n",
      "memory usage: 110.3+ KB\n"
     ]
    }
   ],
   "source": [
    "# É o momento de checar a estrura dos dados\n",
    "atividade_diaria.info()"
   ]
  },
  {
   "cell_type": "code",
   "execution_count": 4,
   "id": "f4ca4d1c",
   "metadata": {
    "execution": {
     "iopub.execute_input": "2024-01-16T02:15:18.238948Z",
     "iopub.status.busy": "2024-01-16T02:15:18.238520Z",
     "iopub.status.idle": "2024-01-16T02:15:18.350060Z",
     "shell.execute_reply": "2024-01-16T02:15:18.348764Z"
    },
    "papermill": {
     "duration": 0.131359,
     "end_time": "2024-01-16T02:15:18.353001",
     "exception": false,
     "start_time": "2024-01-16T02:15:18.221642",
     "status": "completed"
    },
    "tags": []
   },
   "outputs": [
    {
     "data": {
      "text/html": [
       "<div>\n",
       "<style scoped>\n",
       "    .dataframe tbody tr th:only-of-type {\n",
       "        vertical-align: middle;\n",
       "    }\n",
       "\n",
       "    .dataframe tbody tr th {\n",
       "        vertical-align: top;\n",
       "    }\n",
       "\n",
       "    .dataframe thead th {\n",
       "        text-align: right;\n",
       "    }\n",
       "</style>\n",
       "<table border=\"1\" class=\"dataframe\">\n",
       "  <thead>\n",
       "    <tr style=\"text-align: right;\">\n",
       "      <th></th>\n",
       "      <th>Id</th>\n",
       "      <th>ActivityDate</th>\n",
       "      <th>TotalSteps</th>\n",
       "      <th>TotalDistance</th>\n",
       "      <th>TrackerDistance</th>\n",
       "      <th>LoggedActivitiesDistance</th>\n",
       "      <th>VeryActiveDistance</th>\n",
       "      <th>ModeratelyActiveDistance</th>\n",
       "      <th>LightActiveDistance</th>\n",
       "      <th>SedentaryActiveDistance</th>\n",
       "      <th>VeryActiveMinutes</th>\n",
       "      <th>FairlyActiveMinutes</th>\n",
       "      <th>LightlyActiveMinutes</th>\n",
       "      <th>SedentaryMinutes</th>\n",
       "      <th>Calories</th>\n",
       "    </tr>\n",
       "  </thead>\n",
       "  <tbody>\n",
       "    <tr>\n",
       "      <th>0</th>\n",
       "      <td>1503960366</td>\n",
       "      <td>4/12/2016</td>\n",
       "      <td>13162</td>\n",
       "      <td>8.50</td>\n",
       "      <td>8.50</td>\n",
       "      <td>0.0</td>\n",
       "      <td>1.88</td>\n",
       "      <td>0.55</td>\n",
       "      <td>6.06</td>\n",
       "      <td>0.0</td>\n",
       "      <td>25</td>\n",
       "      <td>13</td>\n",
       "      <td>328</td>\n",
       "      <td>728</td>\n",
       "      <td>1985</td>\n",
       "    </tr>\n",
       "    <tr>\n",
       "      <th>1</th>\n",
       "      <td>1503960366</td>\n",
       "      <td>4/13/2016</td>\n",
       "      <td>10735</td>\n",
       "      <td>6.97</td>\n",
       "      <td>6.97</td>\n",
       "      <td>0.0</td>\n",
       "      <td>1.57</td>\n",
       "      <td>0.69</td>\n",
       "      <td>4.71</td>\n",
       "      <td>0.0</td>\n",
       "      <td>21</td>\n",
       "      <td>19</td>\n",
       "      <td>217</td>\n",
       "      <td>776</td>\n",
       "      <td>1797</td>\n",
       "    </tr>\n",
       "    <tr>\n",
       "      <th>2</th>\n",
       "      <td>1503960366</td>\n",
       "      <td>4/14/2016</td>\n",
       "      <td>10460</td>\n",
       "      <td>6.74</td>\n",
       "      <td>6.74</td>\n",
       "      <td>0.0</td>\n",
       "      <td>2.44</td>\n",
       "      <td>0.40</td>\n",
       "      <td>3.91</td>\n",
       "      <td>0.0</td>\n",
       "      <td>30</td>\n",
       "      <td>11</td>\n",
       "      <td>181</td>\n",
       "      <td>1218</td>\n",
       "      <td>1776</td>\n",
       "    </tr>\n",
       "    <tr>\n",
       "      <th>3</th>\n",
       "      <td>1503960366</td>\n",
       "      <td>4/15/2016</td>\n",
       "      <td>9762</td>\n",
       "      <td>6.28</td>\n",
       "      <td>6.28</td>\n",
       "      <td>0.0</td>\n",
       "      <td>2.14</td>\n",
       "      <td>1.26</td>\n",
       "      <td>2.83</td>\n",
       "      <td>0.0</td>\n",
       "      <td>29</td>\n",
       "      <td>34</td>\n",
       "      <td>209</td>\n",
       "      <td>726</td>\n",
       "      <td>1745</td>\n",
       "    </tr>\n",
       "    <tr>\n",
       "      <th>4</th>\n",
       "      <td>1503960366</td>\n",
       "      <td>4/16/2016</td>\n",
       "      <td>12669</td>\n",
       "      <td>8.16</td>\n",
       "      <td>8.16</td>\n",
       "      <td>0.0</td>\n",
       "      <td>2.71</td>\n",
       "      <td>0.41</td>\n",
       "      <td>5.04</td>\n",
       "      <td>0.0</td>\n",
       "      <td>36</td>\n",
       "      <td>10</td>\n",
       "      <td>221</td>\n",
       "      <td>773</td>\n",
       "      <td>1863</td>\n",
       "    </tr>\n",
       "  </tbody>\n",
       "</table>\n",
       "</div>"
      ],
      "text/plain": [
       "           Id ActivityDate  TotalSteps  TotalDistance  TrackerDistance  \\\n",
       "0  1503960366    4/12/2016       13162           8.50             8.50   \n",
       "1  1503960366    4/13/2016       10735           6.97             6.97   \n",
       "2  1503960366    4/14/2016       10460           6.74             6.74   \n",
       "3  1503960366    4/15/2016        9762           6.28             6.28   \n",
       "4  1503960366    4/16/2016       12669           8.16             8.16   \n",
       "\n",
       "   LoggedActivitiesDistance  VeryActiveDistance  ModeratelyActiveDistance  \\\n",
       "0                       0.0                1.88                      0.55   \n",
       "1                       0.0                1.57                      0.69   \n",
       "2                       0.0                2.44                      0.40   \n",
       "3                       0.0                2.14                      1.26   \n",
       "4                       0.0                2.71                      0.41   \n",
       "\n",
       "   LightActiveDistance  SedentaryActiveDistance  VeryActiveMinutes  \\\n",
       "0                 6.06                      0.0                 25   \n",
       "1                 4.71                      0.0                 21   \n",
       "2                 3.91                      0.0                 30   \n",
       "3                 2.83                      0.0                 29   \n",
       "4                 5.04                      0.0                 36   \n",
       "\n",
       "   FairlyActiveMinutes  LightlyActiveMinutes  SedentaryMinutes  Calories  \n",
       "0                   13                   328               728      1985  \n",
       "1                   19                   217               776      1797  \n",
       "2                   11                   181              1218      1776  \n",
       "3                   34                   209               726      1745  \n",
       "4                   10                   221               773      1863  "
      ]
     },
     "execution_count": 4,
     "metadata": {},
     "output_type": "execute_result"
    }
   ],
   "source": [
    "atividade_diaria.head()"
   ]
  },
  {
   "cell_type": "code",
   "execution_count": 5,
   "id": "5998ea7e",
   "metadata": {
    "execution": {
     "iopub.execute_input": "2024-01-16T02:15:18.387209Z",
     "iopub.status.busy": "2024-01-16T02:15:18.386821Z",
     "iopub.status.idle": "2024-01-16T02:15:18.402255Z",
     "shell.execute_reply": "2024-01-16T02:15:18.400370Z"
    },
    "papermill": {
     "duration": 0.036447,
     "end_time": "2024-01-16T02:15:18.405146",
     "exception": false,
     "start_time": "2024-01-16T02:15:18.368699",
     "status": "completed"
    },
    "tags": []
   },
   "outputs": [
    {
     "name": "stdout",
     "output_type": "stream",
     "text": [
      "<class 'pandas.core.frame.DataFrame'>\n",
      "RangeIndex: 22099 entries, 0 to 22098\n",
      "Data columns (total 3 columns):\n",
      " #   Column        Non-Null Count  Dtype \n",
      "---  ------        --------------  ----- \n",
      " 0   Id            22099 non-null  int64 \n",
      " 1   ActivityHour  22099 non-null  object\n",
      " 2   Calories      22099 non-null  int64 \n",
      "dtypes: int64(2), object(1)\n",
      "memory usage: 518.1+ KB\n"
     ]
    }
   ],
   "source": [
    "calorias.info()"
   ]
  },
  {
   "cell_type": "code",
   "execution_count": 6,
   "id": "5b881dde",
   "metadata": {
    "execution": {
     "iopub.execute_input": "2024-01-16T02:15:18.438082Z",
     "iopub.status.busy": "2024-01-16T02:15:18.437625Z",
     "iopub.status.idle": "2024-01-16T02:15:18.448717Z",
     "shell.execute_reply": "2024-01-16T02:15:18.447807Z"
    },
    "papermill": {
     "duration": 0.030814,
     "end_time": "2024-01-16T02:15:18.451259",
     "exception": false,
     "start_time": "2024-01-16T02:15:18.420445",
     "status": "completed"
    },
    "tags": []
   },
   "outputs": [
    {
     "data": {
      "text/html": [
       "<div>\n",
       "<style scoped>\n",
       "    .dataframe tbody tr th:only-of-type {\n",
       "        vertical-align: middle;\n",
       "    }\n",
       "\n",
       "    .dataframe tbody tr th {\n",
       "        vertical-align: top;\n",
       "    }\n",
       "\n",
       "    .dataframe thead th {\n",
       "        text-align: right;\n",
       "    }\n",
       "</style>\n",
       "<table border=\"1\" class=\"dataframe\">\n",
       "  <thead>\n",
       "    <tr style=\"text-align: right;\">\n",
       "      <th></th>\n",
       "      <th>Id</th>\n",
       "      <th>ActivityHour</th>\n",
       "      <th>Calories</th>\n",
       "    </tr>\n",
       "  </thead>\n",
       "  <tbody>\n",
       "    <tr>\n",
       "      <th>0</th>\n",
       "      <td>1503960366</td>\n",
       "      <td>4/12/2016 12:00:00 AM</td>\n",
       "      <td>81</td>\n",
       "    </tr>\n",
       "    <tr>\n",
       "      <th>1</th>\n",
       "      <td>1503960366</td>\n",
       "      <td>4/12/2016 1:00:00 AM</td>\n",
       "      <td>61</td>\n",
       "    </tr>\n",
       "    <tr>\n",
       "      <th>2</th>\n",
       "      <td>1503960366</td>\n",
       "      <td>4/12/2016 2:00:00 AM</td>\n",
       "      <td>59</td>\n",
       "    </tr>\n",
       "    <tr>\n",
       "      <th>3</th>\n",
       "      <td>1503960366</td>\n",
       "      <td>4/12/2016 3:00:00 AM</td>\n",
       "      <td>47</td>\n",
       "    </tr>\n",
       "    <tr>\n",
       "      <th>4</th>\n",
       "      <td>1503960366</td>\n",
       "      <td>4/12/2016 4:00:00 AM</td>\n",
       "      <td>48</td>\n",
       "    </tr>\n",
       "  </tbody>\n",
       "</table>\n",
       "</div>"
      ],
      "text/plain": [
       "           Id           ActivityHour  Calories\n",
       "0  1503960366  4/12/2016 12:00:00 AM        81\n",
       "1  1503960366   4/12/2016 1:00:00 AM        61\n",
       "2  1503960366   4/12/2016 2:00:00 AM        59\n",
       "3  1503960366   4/12/2016 3:00:00 AM        47\n",
       "4  1503960366   4/12/2016 4:00:00 AM        48"
      ]
     },
     "execution_count": 6,
     "metadata": {},
     "output_type": "execute_result"
    }
   ],
   "source": [
    "calorias.head()"
   ]
  },
  {
   "cell_type": "code",
   "execution_count": 7,
   "id": "7ba04d39",
   "metadata": {
    "execution": {
     "iopub.execute_input": "2024-01-16T02:15:18.550451Z",
     "iopub.status.busy": "2024-01-16T02:15:18.549992Z",
     "iopub.status.idle": "2024-01-16T02:15:18.565698Z",
     "shell.execute_reply": "2024-01-16T02:15:18.564506Z"
    },
    "papermill": {
     "duration": 0.036079,
     "end_time": "2024-01-16T02:15:18.568305",
     "exception": false,
     "start_time": "2024-01-16T02:15:18.532226",
     "status": "completed"
    },
    "tags": []
   },
   "outputs": [
    {
     "name": "stdout",
     "output_type": "stream",
     "text": [
      "<class 'pandas.core.frame.DataFrame'>\n",
      "RangeIndex: 22099 entries, 0 to 22098\n",
      "Data columns (total 4 columns):\n",
      " #   Column            Non-Null Count  Dtype  \n",
      "---  ------            --------------  -----  \n",
      " 0   Id                22099 non-null  int64  \n",
      " 1   ActivityHour      22099 non-null  object \n",
      " 2   TotalIntensity    22099 non-null  int64  \n",
      " 3   AverageIntensity  22099 non-null  float64\n",
      "dtypes: float64(1), int64(2), object(1)\n",
      "memory usage: 690.7+ KB\n"
     ]
    }
   ],
   "source": [
    "intensidade.info()"
   ]
  },
  {
   "cell_type": "code",
   "execution_count": 8,
   "id": "e7a5dfe8",
   "metadata": {
    "execution": {
     "iopub.execute_input": "2024-01-16T02:15:18.605608Z",
     "iopub.status.busy": "2024-01-16T02:15:18.605169Z",
     "iopub.status.idle": "2024-01-16T02:15:18.618332Z",
     "shell.execute_reply": "2024-01-16T02:15:18.616983Z"
    },
    "papermill": {
     "duration": 0.036016,
     "end_time": "2024-01-16T02:15:18.621294",
     "exception": false,
     "start_time": "2024-01-16T02:15:18.585278",
     "status": "completed"
    },
    "tags": []
   },
   "outputs": [
    {
     "data": {
      "text/html": [
       "<div>\n",
       "<style scoped>\n",
       "    .dataframe tbody tr th:only-of-type {\n",
       "        vertical-align: middle;\n",
       "    }\n",
       "\n",
       "    .dataframe tbody tr th {\n",
       "        vertical-align: top;\n",
       "    }\n",
       "\n",
       "    .dataframe thead th {\n",
       "        text-align: right;\n",
       "    }\n",
       "</style>\n",
       "<table border=\"1\" class=\"dataframe\">\n",
       "  <thead>\n",
       "    <tr style=\"text-align: right;\">\n",
       "      <th></th>\n",
       "      <th>Id</th>\n",
       "      <th>ActivityHour</th>\n",
       "      <th>TotalIntensity</th>\n",
       "      <th>AverageIntensity</th>\n",
       "    </tr>\n",
       "  </thead>\n",
       "  <tbody>\n",
       "    <tr>\n",
       "      <th>0</th>\n",
       "      <td>1503960366</td>\n",
       "      <td>4/12/2016 12:00:00 AM</td>\n",
       "      <td>20</td>\n",
       "      <td>0.333333</td>\n",
       "    </tr>\n",
       "    <tr>\n",
       "      <th>1</th>\n",
       "      <td>1503960366</td>\n",
       "      <td>4/12/2016 1:00:00 AM</td>\n",
       "      <td>8</td>\n",
       "      <td>0.133333</td>\n",
       "    </tr>\n",
       "    <tr>\n",
       "      <th>2</th>\n",
       "      <td>1503960366</td>\n",
       "      <td>4/12/2016 2:00:00 AM</td>\n",
       "      <td>7</td>\n",
       "      <td>0.116667</td>\n",
       "    </tr>\n",
       "    <tr>\n",
       "      <th>3</th>\n",
       "      <td>1503960366</td>\n",
       "      <td>4/12/2016 3:00:00 AM</td>\n",
       "      <td>0</td>\n",
       "      <td>0.000000</td>\n",
       "    </tr>\n",
       "    <tr>\n",
       "      <th>4</th>\n",
       "      <td>1503960366</td>\n",
       "      <td>4/12/2016 4:00:00 AM</td>\n",
       "      <td>0</td>\n",
       "      <td>0.000000</td>\n",
       "    </tr>\n",
       "  </tbody>\n",
       "</table>\n",
       "</div>"
      ],
      "text/plain": [
       "           Id           ActivityHour  TotalIntensity  AverageIntensity\n",
       "0  1503960366  4/12/2016 12:00:00 AM              20          0.333333\n",
       "1  1503960366   4/12/2016 1:00:00 AM               8          0.133333\n",
       "2  1503960366   4/12/2016 2:00:00 AM               7          0.116667\n",
       "3  1503960366   4/12/2016 3:00:00 AM               0          0.000000\n",
       "4  1503960366   4/12/2016 4:00:00 AM               0          0.000000"
      ]
     },
     "execution_count": 8,
     "metadata": {},
     "output_type": "execute_result"
    }
   ],
   "source": [
    "intensidade.head()"
   ]
  },
  {
   "cell_type": "code",
   "execution_count": 9,
   "id": "6f2cb495",
   "metadata": {
    "execution": {
     "iopub.execute_input": "2024-01-16T02:15:18.658141Z",
     "iopub.status.busy": "2024-01-16T02:15:18.657530Z",
     "iopub.status.idle": "2024-01-16T02:15:18.671545Z",
     "shell.execute_reply": "2024-01-16T02:15:18.670121Z"
    },
    "papermill": {
     "duration": 0.036467,
     "end_time": "2024-01-16T02:15:18.674573",
     "exception": false,
     "start_time": "2024-01-16T02:15:18.638106",
     "status": "completed"
    },
    "tags": []
   },
   "outputs": [
    {
     "name": "stdout",
     "output_type": "stream",
     "text": [
      "<class 'pandas.core.frame.DataFrame'>\n",
      "RangeIndex: 413 entries, 0 to 412\n",
      "Data columns (total 5 columns):\n",
      " #   Column              Non-Null Count  Dtype \n",
      "---  ------              --------------  ----- \n",
      " 0   Id                  413 non-null    int64 \n",
      " 1   SleepDay            413 non-null    object\n",
      " 2   TotalSleepRecords   413 non-null    int64 \n",
      " 3   TotalMinutesAsleep  413 non-null    int64 \n",
      " 4   TotalTimeInBed      413 non-null    int64 \n",
      "dtypes: int64(4), object(1)\n",
      "memory usage: 16.3+ KB\n"
     ]
    }
   ],
   "source": [
    "sono.info()"
   ]
  },
  {
   "cell_type": "code",
   "execution_count": 10,
   "id": "c5ae1e62",
   "metadata": {
    "execution": {
     "iopub.execute_input": "2024-01-16T02:15:18.711560Z",
     "iopub.status.busy": "2024-01-16T02:15:18.711126Z",
     "iopub.status.idle": "2024-01-16T02:15:18.723629Z",
     "shell.execute_reply": "2024-01-16T02:15:18.722566Z"
    },
    "papermill": {
     "duration": 0.03396,
     "end_time": "2024-01-16T02:15:18.726032",
     "exception": false,
     "start_time": "2024-01-16T02:15:18.692072",
     "status": "completed"
    },
    "tags": []
   },
   "outputs": [
    {
     "data": {
      "text/html": [
       "<div>\n",
       "<style scoped>\n",
       "    .dataframe tbody tr th:only-of-type {\n",
       "        vertical-align: middle;\n",
       "    }\n",
       "\n",
       "    .dataframe tbody tr th {\n",
       "        vertical-align: top;\n",
       "    }\n",
       "\n",
       "    .dataframe thead th {\n",
       "        text-align: right;\n",
       "    }\n",
       "</style>\n",
       "<table border=\"1\" class=\"dataframe\">\n",
       "  <thead>\n",
       "    <tr style=\"text-align: right;\">\n",
       "      <th></th>\n",
       "      <th>Id</th>\n",
       "      <th>SleepDay</th>\n",
       "      <th>TotalSleepRecords</th>\n",
       "      <th>TotalMinutesAsleep</th>\n",
       "      <th>TotalTimeInBed</th>\n",
       "    </tr>\n",
       "  </thead>\n",
       "  <tbody>\n",
       "    <tr>\n",
       "      <th>0</th>\n",
       "      <td>1503960366</td>\n",
       "      <td>4/12/2016 12:00:00 AM</td>\n",
       "      <td>1</td>\n",
       "      <td>327</td>\n",
       "      <td>346</td>\n",
       "    </tr>\n",
       "    <tr>\n",
       "      <th>1</th>\n",
       "      <td>1503960366</td>\n",
       "      <td>4/13/2016 12:00:00 AM</td>\n",
       "      <td>2</td>\n",
       "      <td>384</td>\n",
       "      <td>407</td>\n",
       "    </tr>\n",
       "    <tr>\n",
       "      <th>2</th>\n",
       "      <td>1503960366</td>\n",
       "      <td>4/15/2016 12:00:00 AM</td>\n",
       "      <td>1</td>\n",
       "      <td>412</td>\n",
       "      <td>442</td>\n",
       "    </tr>\n",
       "    <tr>\n",
       "      <th>3</th>\n",
       "      <td>1503960366</td>\n",
       "      <td>4/16/2016 12:00:00 AM</td>\n",
       "      <td>2</td>\n",
       "      <td>340</td>\n",
       "      <td>367</td>\n",
       "    </tr>\n",
       "    <tr>\n",
       "      <th>4</th>\n",
       "      <td>1503960366</td>\n",
       "      <td>4/17/2016 12:00:00 AM</td>\n",
       "      <td>1</td>\n",
       "      <td>700</td>\n",
       "      <td>712</td>\n",
       "    </tr>\n",
       "  </tbody>\n",
       "</table>\n",
       "</div>"
      ],
      "text/plain": [
       "           Id               SleepDay  TotalSleepRecords  TotalMinutesAsleep  \\\n",
       "0  1503960366  4/12/2016 12:00:00 AM                  1                 327   \n",
       "1  1503960366  4/13/2016 12:00:00 AM                  2                 384   \n",
       "2  1503960366  4/15/2016 12:00:00 AM                  1                 412   \n",
       "3  1503960366  4/16/2016 12:00:00 AM                  2                 340   \n",
       "4  1503960366  4/17/2016 12:00:00 AM                  1                 700   \n",
       "\n",
       "   TotalTimeInBed  \n",
       "0             346  \n",
       "1             407  \n",
       "2             442  \n",
       "3             367  \n",
       "4             712  "
      ]
     },
     "execution_count": 10,
     "metadata": {},
     "output_type": "execute_result"
    }
   ],
   "source": [
    "sono.head()"
   ]
  },
  {
   "cell_type": "code",
   "execution_count": 11,
   "id": "40a59383",
   "metadata": {
    "execution": {
     "iopub.execute_input": "2024-01-16T02:15:18.762045Z",
     "iopub.status.busy": "2024-01-16T02:15:18.761600Z",
     "iopub.status.idle": "2024-01-16T02:15:18.775821Z",
     "shell.execute_reply": "2024-01-16T02:15:18.773978Z"
    },
    "papermill": {
     "duration": 0.036042,
     "end_time": "2024-01-16T02:15:18.778632",
     "exception": false,
     "start_time": "2024-01-16T02:15:18.742590",
     "status": "completed"
    },
    "tags": []
   },
   "outputs": [
    {
     "name": "stdout",
     "output_type": "stream",
     "text": [
      "<class 'pandas.core.frame.DataFrame'>\n",
      "RangeIndex: 67 entries, 0 to 66\n",
      "Data columns (total 8 columns):\n",
      " #   Column          Non-Null Count  Dtype  \n",
      "---  ------          --------------  -----  \n",
      " 0   Id              67 non-null     int64  \n",
      " 1   Date            67 non-null     object \n",
      " 2   WeightKg        67 non-null     float64\n",
      " 3   WeightPounds    67 non-null     float64\n",
      " 4   Fat             2 non-null      float64\n",
      " 5   BMI             67 non-null     float64\n",
      " 6   IsManualReport  67 non-null     bool   \n",
      " 7   LogId           67 non-null     int64  \n",
      "dtypes: bool(1), float64(4), int64(2), object(1)\n",
      "memory usage: 3.9+ KB\n"
     ]
    }
   ],
   "source": [
    "peso.info()"
   ]
  },
  {
   "cell_type": "code",
   "execution_count": 12,
   "id": "35d7ad5d",
   "metadata": {
    "execution": {
     "iopub.execute_input": "2024-01-16T02:15:18.817061Z",
     "iopub.status.busy": "2024-01-16T02:15:18.816487Z",
     "iopub.status.idle": "2024-01-16T02:15:18.834587Z",
     "shell.execute_reply": "2024-01-16T02:15:18.833356Z"
    },
    "papermill": {
     "duration": 0.040522,
     "end_time": "2024-01-16T02:15:18.837177",
     "exception": false,
     "start_time": "2024-01-16T02:15:18.796655",
     "status": "completed"
    },
    "tags": []
   },
   "outputs": [
    {
     "data": {
      "text/html": [
       "<div>\n",
       "<style scoped>\n",
       "    .dataframe tbody tr th:only-of-type {\n",
       "        vertical-align: middle;\n",
       "    }\n",
       "\n",
       "    .dataframe tbody tr th {\n",
       "        vertical-align: top;\n",
       "    }\n",
       "\n",
       "    .dataframe thead th {\n",
       "        text-align: right;\n",
       "    }\n",
       "</style>\n",
       "<table border=\"1\" class=\"dataframe\">\n",
       "  <thead>\n",
       "    <tr style=\"text-align: right;\">\n",
       "      <th></th>\n",
       "      <th>Id</th>\n",
       "      <th>Date</th>\n",
       "      <th>WeightKg</th>\n",
       "      <th>WeightPounds</th>\n",
       "      <th>Fat</th>\n",
       "      <th>BMI</th>\n",
       "      <th>IsManualReport</th>\n",
       "      <th>LogId</th>\n",
       "    </tr>\n",
       "  </thead>\n",
       "  <tbody>\n",
       "    <tr>\n",
       "      <th>0</th>\n",
       "      <td>1503960366</td>\n",
       "      <td>5/2/2016 11:59:59 PM</td>\n",
       "      <td>52.599998</td>\n",
       "      <td>115.963147</td>\n",
       "      <td>22.0</td>\n",
       "      <td>22.650000</td>\n",
       "      <td>True</td>\n",
       "      <td>1462233599000</td>\n",
       "    </tr>\n",
       "    <tr>\n",
       "      <th>1</th>\n",
       "      <td>1503960366</td>\n",
       "      <td>5/3/2016 11:59:59 PM</td>\n",
       "      <td>52.599998</td>\n",
       "      <td>115.963147</td>\n",
       "      <td>NaN</td>\n",
       "      <td>22.650000</td>\n",
       "      <td>True</td>\n",
       "      <td>1462319999000</td>\n",
       "    </tr>\n",
       "    <tr>\n",
       "      <th>2</th>\n",
       "      <td>1927972279</td>\n",
       "      <td>4/13/2016 1:08:52 AM</td>\n",
       "      <td>133.500000</td>\n",
       "      <td>294.317120</td>\n",
       "      <td>NaN</td>\n",
       "      <td>47.540001</td>\n",
       "      <td>False</td>\n",
       "      <td>1460509732000</td>\n",
       "    </tr>\n",
       "    <tr>\n",
       "      <th>3</th>\n",
       "      <td>2873212765</td>\n",
       "      <td>4/21/2016 11:59:59 PM</td>\n",
       "      <td>56.700001</td>\n",
       "      <td>125.002104</td>\n",
       "      <td>NaN</td>\n",
       "      <td>21.450001</td>\n",
       "      <td>True</td>\n",
       "      <td>1461283199000</td>\n",
       "    </tr>\n",
       "    <tr>\n",
       "      <th>4</th>\n",
       "      <td>2873212765</td>\n",
       "      <td>5/12/2016 11:59:59 PM</td>\n",
       "      <td>57.299999</td>\n",
       "      <td>126.324875</td>\n",
       "      <td>NaN</td>\n",
       "      <td>21.690001</td>\n",
       "      <td>True</td>\n",
       "      <td>1463097599000</td>\n",
       "    </tr>\n",
       "  </tbody>\n",
       "</table>\n",
       "</div>"
      ],
      "text/plain": [
       "           Id                   Date    WeightKg  WeightPounds   Fat  \\\n",
       "0  1503960366   5/2/2016 11:59:59 PM   52.599998    115.963147  22.0   \n",
       "1  1503960366   5/3/2016 11:59:59 PM   52.599998    115.963147   NaN   \n",
       "2  1927972279   4/13/2016 1:08:52 AM  133.500000    294.317120   NaN   \n",
       "3  2873212765  4/21/2016 11:59:59 PM   56.700001    125.002104   NaN   \n",
       "4  2873212765  5/12/2016 11:59:59 PM   57.299999    126.324875   NaN   \n",
       "\n",
       "         BMI  IsManualReport          LogId  \n",
       "0  22.650000            True  1462233599000  \n",
       "1  22.650000            True  1462319999000  \n",
       "2  47.540001           False  1460509732000  \n",
       "3  21.450001            True  1461283199000  \n",
       "4  21.690001            True  1463097599000  "
      ]
     },
     "execution_count": 12,
     "metadata": {},
     "output_type": "execute_result"
    }
   ],
   "source": [
    "peso.head()"
   ]
  },
  {
   "cell_type": "markdown",
   "id": "c61ceaf8",
   "metadata": {
    "papermill": {
     "duration": 0.020232,
     "end_time": "2024-01-16T02:15:18.875334",
     "exception": false,
     "start_time": "2024-01-16T02:15:18.855102",
     "status": "completed"
    },
    "tags": []
   },
   "source": [
    "Existe uma incosistência no formato das datas nos dataframes, em todos o tipo de dado da coluna é object e deveria ser datetime. "
   ]
  },
  {
   "cell_type": "markdown",
   "id": "b3bd1fea",
   "metadata": {
    "papermill": {
     "duration": 0.022506,
     "end_time": "2024-01-16T02:15:18.919473",
     "exception": false,
     "start_time": "2024-01-16T02:15:18.896967",
     "status": "completed"
    },
    "tags": []
   },
   "source": [
    "## Processar: manipular e limpar os dados para análise"
   ]
  },
  {
   "cell_type": "code",
   "execution_count": 13,
   "id": "1bd79f27",
   "metadata": {
    "execution": {
     "iopub.execute_input": "2024-01-16T02:15:18.964001Z",
     "iopub.status.busy": "2024-01-16T02:15:18.963468Z",
     "iopub.status.idle": "2024-01-16T02:15:18.999416Z",
     "shell.execute_reply": "2024-01-16T02:15:18.998160Z"
    },
    "papermill": {
     "duration": 0.065756,
     "end_time": "2024-01-16T02:15:19.003145",
     "exception": false,
     "start_time": "2024-01-16T02:15:18.937389",
     "status": "completed"
    },
    "tags": []
   },
   "outputs": [
    {
     "data": {
      "text/html": [
       "<div>\n",
       "<style scoped>\n",
       "    .dataframe tbody tr th:only-of-type {\n",
       "        vertical-align: middle;\n",
       "    }\n",
       "\n",
       "    .dataframe tbody tr th {\n",
       "        vertical-align: top;\n",
       "    }\n",
       "\n",
       "    .dataframe thead th {\n",
       "        text-align: right;\n",
       "    }\n",
       "</style>\n",
       "<table border=\"1\" class=\"dataframe\">\n",
       "  <thead>\n",
       "    <tr style=\"text-align: right;\">\n",
       "      <th></th>\n",
       "      <th>Id</th>\n",
       "      <th>ActivityDate</th>\n",
       "      <th>TotalSteps</th>\n",
       "      <th>TotalDistance</th>\n",
       "      <th>TrackerDistance</th>\n",
       "      <th>LoggedActivitiesDistance</th>\n",
       "      <th>VeryActiveDistance</th>\n",
       "      <th>ModeratelyActiveDistance</th>\n",
       "      <th>LightActiveDistance</th>\n",
       "      <th>SedentaryActiveDistance</th>\n",
       "      <th>VeryActiveMinutes</th>\n",
       "      <th>FairlyActiveMinutes</th>\n",
       "      <th>LightlyActiveMinutes</th>\n",
       "      <th>SedentaryMinutes</th>\n",
       "      <th>Calories</th>\n",
       "    </tr>\n",
       "  </thead>\n",
       "  <tbody>\n",
       "    <tr>\n",
       "      <th>0</th>\n",
       "      <td>1503960366</td>\n",
       "      <td>2016-04-12</td>\n",
       "      <td>13162</td>\n",
       "      <td>8.50</td>\n",
       "      <td>8.50</td>\n",
       "      <td>0.0</td>\n",
       "      <td>1.88</td>\n",
       "      <td>0.55</td>\n",
       "      <td>6.06</td>\n",
       "      <td>0.0</td>\n",
       "      <td>25</td>\n",
       "      <td>13</td>\n",
       "      <td>328</td>\n",
       "      <td>728</td>\n",
       "      <td>1985</td>\n",
       "    </tr>\n",
       "    <tr>\n",
       "      <th>1</th>\n",
       "      <td>1503960366</td>\n",
       "      <td>2016-04-13</td>\n",
       "      <td>10735</td>\n",
       "      <td>6.97</td>\n",
       "      <td>6.97</td>\n",
       "      <td>0.0</td>\n",
       "      <td>1.57</td>\n",
       "      <td>0.69</td>\n",
       "      <td>4.71</td>\n",
       "      <td>0.0</td>\n",
       "      <td>21</td>\n",
       "      <td>19</td>\n",
       "      <td>217</td>\n",
       "      <td>776</td>\n",
       "      <td>1797</td>\n",
       "    </tr>\n",
       "    <tr>\n",
       "      <th>2</th>\n",
       "      <td>1503960366</td>\n",
       "      <td>2016-04-14</td>\n",
       "      <td>10460</td>\n",
       "      <td>6.74</td>\n",
       "      <td>6.74</td>\n",
       "      <td>0.0</td>\n",
       "      <td>2.44</td>\n",
       "      <td>0.40</td>\n",
       "      <td>3.91</td>\n",
       "      <td>0.0</td>\n",
       "      <td>30</td>\n",
       "      <td>11</td>\n",
       "      <td>181</td>\n",
       "      <td>1218</td>\n",
       "      <td>1776</td>\n",
       "    </tr>\n",
       "    <tr>\n",
       "      <th>3</th>\n",
       "      <td>1503960366</td>\n",
       "      <td>2016-04-15</td>\n",
       "      <td>9762</td>\n",
       "      <td>6.28</td>\n",
       "      <td>6.28</td>\n",
       "      <td>0.0</td>\n",
       "      <td>2.14</td>\n",
       "      <td>1.26</td>\n",
       "      <td>2.83</td>\n",
       "      <td>0.0</td>\n",
       "      <td>29</td>\n",
       "      <td>34</td>\n",
       "      <td>209</td>\n",
       "      <td>726</td>\n",
       "      <td>1745</td>\n",
       "    </tr>\n",
       "    <tr>\n",
       "      <th>4</th>\n",
       "      <td>1503960366</td>\n",
       "      <td>2016-04-16</td>\n",
       "      <td>12669</td>\n",
       "      <td>8.16</td>\n",
       "      <td>8.16</td>\n",
       "      <td>0.0</td>\n",
       "      <td>2.71</td>\n",
       "      <td>0.41</td>\n",
       "      <td>5.04</td>\n",
       "      <td>0.0</td>\n",
       "      <td>36</td>\n",
       "      <td>10</td>\n",
       "      <td>221</td>\n",
       "      <td>773</td>\n",
       "      <td>1863</td>\n",
       "    </tr>\n",
       "  </tbody>\n",
       "</table>\n",
       "</div>"
      ],
      "text/plain": [
       "           Id ActivityDate  TotalSteps  TotalDistance  TrackerDistance  \\\n",
       "0  1503960366   2016-04-12       13162           8.50             8.50   \n",
       "1  1503960366   2016-04-13       10735           6.97             6.97   \n",
       "2  1503960366   2016-04-14       10460           6.74             6.74   \n",
       "3  1503960366   2016-04-15        9762           6.28             6.28   \n",
       "4  1503960366   2016-04-16       12669           8.16             8.16   \n",
       "\n",
       "   LoggedActivitiesDistance  VeryActiveDistance  ModeratelyActiveDistance  \\\n",
       "0                       0.0                1.88                      0.55   \n",
       "1                       0.0                1.57                      0.69   \n",
       "2                       0.0                2.44                      0.40   \n",
       "3                       0.0                2.14                      1.26   \n",
       "4                       0.0                2.71                      0.41   \n",
       "\n",
       "   LightActiveDistance  SedentaryActiveDistance  VeryActiveMinutes  \\\n",
       "0                 6.06                      0.0                 25   \n",
       "1                 4.71                      0.0                 21   \n",
       "2                 3.91                      0.0                 30   \n",
       "3                 2.83                      0.0                 29   \n",
       "4                 5.04                      0.0                 36   \n",
       "\n",
       "   FairlyActiveMinutes  LightlyActiveMinutes  SedentaryMinutes  Calories  \n",
       "0                   13                   328               728      1985  \n",
       "1                   19                   217               776      1797  \n",
       "2                   11                   181              1218      1776  \n",
       "3                   34                   209               726      1745  \n",
       "4                   10                   221               773      1863  "
      ]
     },
     "execution_count": 13,
     "metadata": {},
     "output_type": "execute_result"
    }
   ],
   "source": [
    "# A primeira etapa do tratamento dos dados será corrigir o formato das datas\n",
    "atividade_diaria['ActivityDate'] = pd.to_datetime(atividade_diaria['ActivityDate'])\n",
    "atividade_diaria.head()"
   ]
  },
  {
   "cell_type": "code",
   "execution_count": 14,
   "id": "f1dd421e",
   "metadata": {
    "execution": {
     "iopub.execute_input": "2024-01-16T02:15:19.046627Z",
     "iopub.status.busy": "2024-01-16T02:15:19.045766Z",
     "iopub.status.idle": "2024-01-16T02:15:22.119754Z",
     "shell.execute_reply": "2024-01-16T02:15:22.118555Z"
    },
    "papermill": {
     "duration": 3.096558,
     "end_time": "2024-01-16T02:15:22.122318",
     "exception": false,
     "start_time": "2024-01-16T02:15:19.025760",
     "status": "completed"
    },
    "tags": []
   },
   "outputs": [
    {
     "name": "stderr",
     "output_type": "stream",
     "text": [
      "/tmp/ipykernel_18/894701249.py:1: UserWarning: Could not infer format, so each element will be parsed individually, falling back to `dateutil`. To ensure parsing is consistent and as-expected, please specify a format.\n",
      "  calorias['ActivityHour'] = pd.to_datetime(calorias['ActivityHour'])\n"
     ]
    },
    {
     "data": {
      "text/html": [
       "<div>\n",
       "<style scoped>\n",
       "    .dataframe tbody tr th:only-of-type {\n",
       "        vertical-align: middle;\n",
       "    }\n",
       "\n",
       "    .dataframe tbody tr th {\n",
       "        vertical-align: top;\n",
       "    }\n",
       "\n",
       "    .dataframe thead th {\n",
       "        text-align: right;\n",
       "    }\n",
       "</style>\n",
       "<table border=\"1\" class=\"dataframe\">\n",
       "  <thead>\n",
       "    <tr style=\"text-align: right;\">\n",
       "      <th></th>\n",
       "      <th>Id</th>\n",
       "      <th>ActivityHour</th>\n",
       "      <th>Calories</th>\n",
       "    </tr>\n",
       "  </thead>\n",
       "  <tbody>\n",
       "    <tr>\n",
       "      <th>0</th>\n",
       "      <td>1503960366</td>\n",
       "      <td>2016-04-12 00:00:00</td>\n",
       "      <td>81</td>\n",
       "    </tr>\n",
       "    <tr>\n",
       "      <th>1</th>\n",
       "      <td>1503960366</td>\n",
       "      <td>2016-04-12 01:00:00</td>\n",
       "      <td>61</td>\n",
       "    </tr>\n",
       "    <tr>\n",
       "      <th>2</th>\n",
       "      <td>1503960366</td>\n",
       "      <td>2016-04-12 02:00:00</td>\n",
       "      <td>59</td>\n",
       "    </tr>\n",
       "    <tr>\n",
       "      <th>3</th>\n",
       "      <td>1503960366</td>\n",
       "      <td>2016-04-12 03:00:00</td>\n",
       "      <td>47</td>\n",
       "    </tr>\n",
       "    <tr>\n",
       "      <th>4</th>\n",
       "      <td>1503960366</td>\n",
       "      <td>2016-04-12 04:00:00</td>\n",
       "      <td>48</td>\n",
       "    </tr>\n",
       "  </tbody>\n",
       "</table>\n",
       "</div>"
      ],
      "text/plain": [
       "           Id        ActivityHour  Calories\n",
       "0  1503960366 2016-04-12 00:00:00        81\n",
       "1  1503960366 2016-04-12 01:00:00        61\n",
       "2  1503960366 2016-04-12 02:00:00        59\n",
       "3  1503960366 2016-04-12 03:00:00        47\n",
       "4  1503960366 2016-04-12 04:00:00        48"
      ]
     },
     "execution_count": 14,
     "metadata": {},
     "output_type": "execute_result"
    }
   ],
   "source": [
    "calorias['ActivityHour'] = pd.to_datetime(calorias['ActivityHour'])\n",
    "calorias.head()"
   ]
  },
  {
   "cell_type": "code",
   "execution_count": 15,
   "id": "a09f5210",
   "metadata": {
    "execution": {
     "iopub.execute_input": "2024-01-16T02:15:22.159808Z",
     "iopub.status.busy": "2024-01-16T02:15:22.159373Z",
     "iopub.status.idle": "2024-01-16T02:15:25.128712Z",
     "shell.execute_reply": "2024-01-16T02:15:25.127444Z"
    },
    "papermill": {
     "duration": 2.991226,
     "end_time": "2024-01-16T02:15:25.131357",
     "exception": false,
     "start_time": "2024-01-16T02:15:22.140131",
     "status": "completed"
    },
    "tags": []
   },
   "outputs": [
    {
     "name": "stderr",
     "output_type": "stream",
     "text": [
      "/tmp/ipykernel_18/1943478971.py:1: UserWarning: Could not infer format, so each element will be parsed individually, falling back to `dateutil`. To ensure parsing is consistent and as-expected, please specify a format.\n",
      "  intensidade['ActivityHour'] = pd.to_datetime(intensidade['ActivityHour'])\n"
     ]
    },
    {
     "data": {
      "text/html": [
       "<div>\n",
       "<style scoped>\n",
       "    .dataframe tbody tr th:only-of-type {\n",
       "        vertical-align: middle;\n",
       "    }\n",
       "\n",
       "    .dataframe tbody tr th {\n",
       "        vertical-align: top;\n",
       "    }\n",
       "\n",
       "    .dataframe thead th {\n",
       "        text-align: right;\n",
       "    }\n",
       "</style>\n",
       "<table border=\"1\" class=\"dataframe\">\n",
       "  <thead>\n",
       "    <tr style=\"text-align: right;\">\n",
       "      <th></th>\n",
       "      <th>Id</th>\n",
       "      <th>ActivityHour</th>\n",
       "      <th>TotalIntensity</th>\n",
       "      <th>AverageIntensity</th>\n",
       "    </tr>\n",
       "  </thead>\n",
       "  <tbody>\n",
       "    <tr>\n",
       "      <th>0</th>\n",
       "      <td>1503960366</td>\n",
       "      <td>2016-04-12 00:00:00</td>\n",
       "      <td>20</td>\n",
       "      <td>0.333333</td>\n",
       "    </tr>\n",
       "    <tr>\n",
       "      <th>1</th>\n",
       "      <td>1503960366</td>\n",
       "      <td>2016-04-12 01:00:00</td>\n",
       "      <td>8</td>\n",
       "      <td>0.133333</td>\n",
       "    </tr>\n",
       "    <tr>\n",
       "      <th>2</th>\n",
       "      <td>1503960366</td>\n",
       "      <td>2016-04-12 02:00:00</td>\n",
       "      <td>7</td>\n",
       "      <td>0.116667</td>\n",
       "    </tr>\n",
       "    <tr>\n",
       "      <th>3</th>\n",
       "      <td>1503960366</td>\n",
       "      <td>2016-04-12 03:00:00</td>\n",
       "      <td>0</td>\n",
       "      <td>0.000000</td>\n",
       "    </tr>\n",
       "    <tr>\n",
       "      <th>4</th>\n",
       "      <td>1503960366</td>\n",
       "      <td>2016-04-12 04:00:00</td>\n",
       "      <td>0</td>\n",
       "      <td>0.000000</td>\n",
       "    </tr>\n",
       "  </tbody>\n",
       "</table>\n",
       "</div>"
      ],
      "text/plain": [
       "           Id        ActivityHour  TotalIntensity  AverageIntensity\n",
       "0  1503960366 2016-04-12 00:00:00              20          0.333333\n",
       "1  1503960366 2016-04-12 01:00:00               8          0.133333\n",
       "2  1503960366 2016-04-12 02:00:00               7          0.116667\n",
       "3  1503960366 2016-04-12 03:00:00               0          0.000000\n",
       "4  1503960366 2016-04-12 04:00:00               0          0.000000"
      ]
     },
     "execution_count": 15,
     "metadata": {},
     "output_type": "execute_result"
    }
   ],
   "source": [
    "intensidade['ActivityHour'] = pd.to_datetime(intensidade['ActivityHour'])\n",
    "intensidade.head()"
   ]
  },
  {
   "cell_type": "code",
   "execution_count": 16,
   "id": "928f14d9",
   "metadata": {
    "execution": {
     "iopub.execute_input": "2024-01-16T02:15:25.171296Z",
     "iopub.status.busy": "2024-01-16T02:15:25.170871Z",
     "iopub.status.idle": "2024-01-16T02:15:25.192361Z",
     "shell.execute_reply": "2024-01-16T02:15:25.191115Z"
    },
    "papermill": {
     "duration": 0.043967,
     "end_time": "2024-01-16T02:15:25.194601",
     "exception": false,
     "start_time": "2024-01-16T02:15:25.150634",
     "status": "completed"
    },
    "tags": []
   },
   "outputs": [
    {
     "name": "stderr",
     "output_type": "stream",
     "text": [
      "/tmp/ipykernel_18/1846492885.py:1: UserWarning: Could not infer format, so each element will be parsed individually, falling back to `dateutil`. To ensure parsing is consistent and as-expected, please specify a format.\n",
      "  sono['SleepDay'] = pd.to_datetime(sono['SleepDay'])\n"
     ]
    },
    {
     "data": {
      "text/html": [
       "<div>\n",
       "<style scoped>\n",
       "    .dataframe tbody tr th:only-of-type {\n",
       "        vertical-align: middle;\n",
       "    }\n",
       "\n",
       "    .dataframe tbody tr th {\n",
       "        vertical-align: top;\n",
       "    }\n",
       "\n",
       "    .dataframe thead th {\n",
       "        text-align: right;\n",
       "    }\n",
       "</style>\n",
       "<table border=\"1\" class=\"dataframe\">\n",
       "  <thead>\n",
       "    <tr style=\"text-align: right;\">\n",
       "      <th></th>\n",
       "      <th>Id</th>\n",
       "      <th>SleepDay</th>\n",
       "      <th>TotalSleepRecords</th>\n",
       "      <th>TotalMinutesAsleep</th>\n",
       "      <th>TotalTimeInBed</th>\n",
       "    </tr>\n",
       "  </thead>\n",
       "  <tbody>\n",
       "    <tr>\n",
       "      <th>0</th>\n",
       "      <td>1503960366</td>\n",
       "      <td>2016-04-12</td>\n",
       "      <td>1</td>\n",
       "      <td>327</td>\n",
       "      <td>346</td>\n",
       "    </tr>\n",
       "    <tr>\n",
       "      <th>1</th>\n",
       "      <td>1503960366</td>\n",
       "      <td>2016-04-13</td>\n",
       "      <td>2</td>\n",
       "      <td>384</td>\n",
       "      <td>407</td>\n",
       "    </tr>\n",
       "    <tr>\n",
       "      <th>2</th>\n",
       "      <td>1503960366</td>\n",
       "      <td>2016-04-15</td>\n",
       "      <td>1</td>\n",
       "      <td>412</td>\n",
       "      <td>442</td>\n",
       "    </tr>\n",
       "    <tr>\n",
       "      <th>3</th>\n",
       "      <td>1503960366</td>\n",
       "      <td>2016-04-16</td>\n",
       "      <td>2</td>\n",
       "      <td>340</td>\n",
       "      <td>367</td>\n",
       "    </tr>\n",
       "    <tr>\n",
       "      <th>4</th>\n",
       "      <td>1503960366</td>\n",
       "      <td>2016-04-17</td>\n",
       "      <td>1</td>\n",
       "      <td>700</td>\n",
       "      <td>712</td>\n",
       "    </tr>\n",
       "  </tbody>\n",
       "</table>\n",
       "</div>"
      ],
      "text/plain": [
       "           Id   SleepDay  TotalSleepRecords  TotalMinutesAsleep  \\\n",
       "0  1503960366 2016-04-12                  1                 327   \n",
       "1  1503960366 2016-04-13                  2                 384   \n",
       "2  1503960366 2016-04-15                  1                 412   \n",
       "3  1503960366 2016-04-16                  2                 340   \n",
       "4  1503960366 2016-04-17                  1                 700   \n",
       "\n",
       "   TotalTimeInBed  \n",
       "0             346  \n",
       "1             407  \n",
       "2             442  \n",
       "3             367  \n",
       "4             712  "
      ]
     },
     "execution_count": 16,
     "metadata": {},
     "output_type": "execute_result"
    }
   ],
   "source": [
    "sono['SleepDay'] = pd.to_datetime(sono['SleepDay'])\n",
    "sono.head()"
   ]
  },
  {
   "cell_type": "code",
   "execution_count": 17,
   "id": "434fa8b8",
   "metadata": {
    "execution": {
     "iopub.execute_input": "2024-01-16T02:15:25.232964Z",
     "iopub.status.busy": "2024-01-16T02:15:25.232412Z",
     "iopub.status.idle": "2024-01-16T02:15:25.261348Z",
     "shell.execute_reply": "2024-01-16T02:15:25.259938Z"
    },
    "papermill": {
     "duration": 0.05097,
     "end_time": "2024-01-16T02:15:25.263851",
     "exception": false,
     "start_time": "2024-01-16T02:15:25.212881",
     "status": "completed"
    },
    "tags": []
   },
   "outputs": [
    {
     "name": "stderr",
     "output_type": "stream",
     "text": [
      "/tmp/ipykernel_18/2705874256.py:1: UserWarning: Could not infer format, so each element will be parsed individually, falling back to `dateutil`. To ensure parsing is consistent and as-expected, please specify a format.\n",
      "  peso['Date'] = pd.to_datetime(peso['Date'])\n"
     ]
    },
    {
     "data": {
      "text/html": [
       "<div>\n",
       "<style scoped>\n",
       "    .dataframe tbody tr th:only-of-type {\n",
       "        vertical-align: middle;\n",
       "    }\n",
       "\n",
       "    .dataframe tbody tr th {\n",
       "        vertical-align: top;\n",
       "    }\n",
       "\n",
       "    .dataframe thead th {\n",
       "        text-align: right;\n",
       "    }\n",
       "</style>\n",
       "<table border=\"1\" class=\"dataframe\">\n",
       "  <thead>\n",
       "    <tr style=\"text-align: right;\">\n",
       "      <th></th>\n",
       "      <th>Id</th>\n",
       "      <th>Date</th>\n",
       "      <th>WeightKg</th>\n",
       "      <th>WeightPounds</th>\n",
       "      <th>Fat</th>\n",
       "      <th>BMI</th>\n",
       "      <th>IsManualReport</th>\n",
       "      <th>LogId</th>\n",
       "    </tr>\n",
       "  </thead>\n",
       "  <tbody>\n",
       "    <tr>\n",
       "      <th>0</th>\n",
       "      <td>1503960366</td>\n",
       "      <td>2016-05-02 23:59:59</td>\n",
       "      <td>52.599998</td>\n",
       "      <td>115.963147</td>\n",
       "      <td>22.0</td>\n",
       "      <td>22.650000</td>\n",
       "      <td>True</td>\n",
       "      <td>1462233599000</td>\n",
       "    </tr>\n",
       "    <tr>\n",
       "      <th>1</th>\n",
       "      <td>1503960366</td>\n",
       "      <td>2016-05-03 23:59:59</td>\n",
       "      <td>52.599998</td>\n",
       "      <td>115.963147</td>\n",
       "      <td>NaN</td>\n",
       "      <td>22.650000</td>\n",
       "      <td>True</td>\n",
       "      <td>1462319999000</td>\n",
       "    </tr>\n",
       "    <tr>\n",
       "      <th>2</th>\n",
       "      <td>1927972279</td>\n",
       "      <td>2016-04-13 01:08:52</td>\n",
       "      <td>133.500000</td>\n",
       "      <td>294.317120</td>\n",
       "      <td>NaN</td>\n",
       "      <td>47.540001</td>\n",
       "      <td>False</td>\n",
       "      <td>1460509732000</td>\n",
       "    </tr>\n",
       "    <tr>\n",
       "      <th>3</th>\n",
       "      <td>2873212765</td>\n",
       "      <td>2016-04-21 23:59:59</td>\n",
       "      <td>56.700001</td>\n",
       "      <td>125.002104</td>\n",
       "      <td>NaN</td>\n",
       "      <td>21.450001</td>\n",
       "      <td>True</td>\n",
       "      <td>1461283199000</td>\n",
       "    </tr>\n",
       "    <tr>\n",
       "      <th>4</th>\n",
       "      <td>2873212765</td>\n",
       "      <td>2016-05-12 23:59:59</td>\n",
       "      <td>57.299999</td>\n",
       "      <td>126.324875</td>\n",
       "      <td>NaN</td>\n",
       "      <td>21.690001</td>\n",
       "      <td>True</td>\n",
       "      <td>1463097599000</td>\n",
       "    </tr>\n",
       "  </tbody>\n",
       "</table>\n",
       "</div>"
      ],
      "text/plain": [
       "           Id                Date    WeightKg  WeightPounds   Fat        BMI  \\\n",
       "0  1503960366 2016-05-02 23:59:59   52.599998    115.963147  22.0  22.650000   \n",
       "1  1503960366 2016-05-03 23:59:59   52.599998    115.963147   NaN  22.650000   \n",
       "2  1927972279 2016-04-13 01:08:52  133.500000    294.317120   NaN  47.540001   \n",
       "3  2873212765 2016-04-21 23:59:59   56.700001    125.002104   NaN  21.450001   \n",
       "4  2873212765 2016-05-12 23:59:59   57.299999    126.324875   NaN  21.690001   \n",
       "\n",
       "   IsManualReport          LogId  \n",
       "0            True  1462233599000  \n",
       "1            True  1462319999000  \n",
       "2           False  1460509732000  \n",
       "3            True  1461283199000  \n",
       "4            True  1463097599000  "
      ]
     },
     "execution_count": 17,
     "metadata": {},
     "output_type": "execute_result"
    }
   ],
   "source": [
    "peso['Date'] = pd.to_datetime(peso['Date'])\n",
    "peso.head()"
   ]
  },
  {
   "cell_type": "code",
   "execution_count": 18,
   "id": "e86b18b9",
   "metadata": {
    "execution": {
     "iopub.execute_input": "2024-01-16T02:15:25.304397Z",
     "iopub.status.busy": "2024-01-16T02:15:25.303955Z",
     "iopub.status.idle": "2024-01-16T02:15:25.313042Z",
     "shell.execute_reply": "2024-01-16T02:15:25.311857Z"
    },
    "papermill": {
     "duration": 0.031829,
     "end_time": "2024-01-16T02:15:25.315557",
     "exception": false,
     "start_time": "2024-01-16T02:15:25.283728",
     "status": "completed"
    },
    "tags": []
   },
   "outputs": [
    {
     "data": {
      "text/plain": [
       "33"
      ]
     },
     "execution_count": 18,
     "metadata": {},
     "output_type": "execute_result"
    }
   ],
   "source": [
    "# Agora os Id's únicos\n",
    "atividade_diaria['Id'].nunique()"
   ]
  },
  {
   "cell_type": "code",
   "execution_count": 19,
   "id": "c551a2c4",
   "metadata": {
    "execution": {
     "iopub.execute_input": "2024-01-16T02:15:25.356308Z",
     "iopub.status.busy": "2024-01-16T02:15:25.355900Z",
     "iopub.status.idle": "2024-01-16T02:15:25.363003Z",
     "shell.execute_reply": "2024-01-16T02:15:25.361961Z"
    },
    "papermill": {
     "duration": 0.030835,
     "end_time": "2024-01-16T02:15:25.365136",
     "exception": false,
     "start_time": "2024-01-16T02:15:25.334301",
     "status": "completed"
    },
    "tags": []
   },
   "outputs": [
    {
     "data": {
      "text/plain": [
       "33"
      ]
     },
     "execution_count": 19,
     "metadata": {},
     "output_type": "execute_result"
    }
   ],
   "source": [
    "calorias['Id'].nunique()"
   ]
  },
  {
   "cell_type": "code",
   "execution_count": 20,
   "id": "fa14cc07",
   "metadata": {
    "execution": {
     "iopub.execute_input": "2024-01-16T02:15:25.406252Z",
     "iopub.status.busy": "2024-01-16T02:15:25.405827Z",
     "iopub.status.idle": "2024-01-16T02:15:25.413825Z",
     "shell.execute_reply": "2024-01-16T02:15:25.412817Z"
    },
    "papermill": {
     "duration": 0.031804,
     "end_time": "2024-01-16T02:15:25.415946",
     "exception": false,
     "start_time": "2024-01-16T02:15:25.384142",
     "status": "completed"
    },
    "tags": []
   },
   "outputs": [
    {
     "data": {
      "text/plain": [
       "33"
      ]
     },
     "execution_count": 20,
     "metadata": {},
     "output_type": "execute_result"
    }
   ],
   "source": [
    "intensidade['Id'].nunique()"
   ]
  },
  {
   "cell_type": "code",
   "execution_count": 21,
   "id": "28116ec9",
   "metadata": {
    "execution": {
     "iopub.execute_input": "2024-01-16T02:15:25.457627Z",
     "iopub.status.busy": "2024-01-16T02:15:25.456297Z",
     "iopub.status.idle": "2024-01-16T02:15:25.463635Z",
     "shell.execute_reply": "2024-01-16T02:15:25.462783Z"
    },
    "papermill": {
     "duration": 0.03085,
     "end_time": "2024-01-16T02:15:25.465744",
     "exception": false,
     "start_time": "2024-01-16T02:15:25.434894",
     "status": "completed"
    },
    "tags": []
   },
   "outputs": [
    {
     "data": {
      "text/plain": [
       "24"
      ]
     },
     "execution_count": 21,
     "metadata": {},
     "output_type": "execute_result"
    }
   ],
   "source": [
    "sono['Id'].nunique()"
   ]
  },
  {
   "cell_type": "code",
   "execution_count": 22,
   "id": "cc603098",
   "metadata": {
    "execution": {
     "iopub.execute_input": "2024-01-16T02:15:25.507767Z",
     "iopub.status.busy": "2024-01-16T02:15:25.506807Z",
     "iopub.status.idle": "2024-01-16T02:15:25.514293Z",
     "shell.execute_reply": "2024-01-16T02:15:25.513212Z"
    },
    "papermill": {
     "duration": 0.030741,
     "end_time": "2024-01-16T02:15:25.516777",
     "exception": false,
     "start_time": "2024-01-16T02:15:25.486036",
     "status": "completed"
    },
    "tags": []
   },
   "outputs": [
    {
     "data": {
      "text/plain": [
       "8"
      ]
     },
     "execution_count": 22,
     "metadata": {},
     "output_type": "execute_result"
    }
   ],
   "source": [
    "peso['Id'].nunique()"
   ]
  },
  {
   "cell_type": "markdown",
   "id": "6c85e330",
   "metadata": {
    "papermill": {
     "duration": 0.020913,
     "end_time": "2024-01-16T02:15:25.557146",
     "exception": false,
     "start_time": "2024-01-16T02:15:25.536233",
     "status": "completed"
    },
    "tags": []
   },
   "source": [
    "É possível tirar uma conclusão antes de prosseguir:\n",
    "\n",
    "* Existe uma baixa adesão ao acompanhamento e registro de peso e índice de massa corporal (IMC). Não utilizaremos o dataframe peso a seguir, e aqui já temos a primeira recomendação, sugerir o acompanhamento de peso e traçar metas aos usuários para obtenção do IMC ideal."
   ]
  },
  {
   "cell_type": "markdown",
   "id": "97f50bda",
   "metadata": {
    "papermill": {
     "duration": 0.019447,
     "end_time": "2024-01-16T02:15:25.596741",
     "exception": false,
     "start_time": "2024-01-16T02:15:25.577294",
     "status": "completed"
    },
    "tags": []
   },
   "source": [
    "## Analisar: buscar insights nos dados\n",
    "\n",
    "Em seguida deve se buscar resumos sobre os dataframes, e alguns aspectos para busca relações entre os dados"
   ]
  },
  {
   "cell_type": "code",
   "execution_count": 23,
   "id": "8a4b887f",
   "metadata": {
    "execution": {
     "iopub.execute_input": "2024-01-16T02:15:25.638574Z",
     "iopub.status.busy": "2024-01-16T02:15:25.637755Z",
     "iopub.status.idle": "2024-01-16T02:15:25.706822Z",
     "shell.execute_reply": "2024-01-16T02:15:25.705650Z"
    },
    "papermill": {
     "duration": 0.093555,
     "end_time": "2024-01-16T02:15:25.709670",
     "exception": false,
     "start_time": "2024-01-16T02:15:25.616115",
     "status": "completed"
    },
    "tags": []
   },
   "outputs": [
    {
     "data": {
      "text/html": [
       "<div>\n",
       "<style scoped>\n",
       "    .dataframe tbody tr th:only-of-type {\n",
       "        vertical-align: middle;\n",
       "    }\n",
       "\n",
       "    .dataframe tbody tr th {\n",
       "        vertical-align: top;\n",
       "    }\n",
       "\n",
       "    .dataframe thead th {\n",
       "        text-align: right;\n",
       "    }\n",
       "</style>\n",
       "<table border=\"1\" class=\"dataframe\">\n",
       "  <thead>\n",
       "    <tr style=\"text-align: right;\">\n",
       "      <th></th>\n",
       "      <th>Id</th>\n",
       "      <th>ActivityDate</th>\n",
       "      <th>TotalSteps</th>\n",
       "      <th>TotalDistance</th>\n",
       "      <th>TrackerDistance</th>\n",
       "      <th>LoggedActivitiesDistance</th>\n",
       "      <th>VeryActiveDistance</th>\n",
       "      <th>ModeratelyActiveDistance</th>\n",
       "      <th>LightActiveDistance</th>\n",
       "      <th>SedentaryActiveDistance</th>\n",
       "      <th>VeryActiveMinutes</th>\n",
       "      <th>FairlyActiveMinutes</th>\n",
       "      <th>LightlyActiveMinutes</th>\n",
       "      <th>SedentaryMinutes</th>\n",
       "      <th>Calories</th>\n",
       "    </tr>\n",
       "  </thead>\n",
       "  <tbody>\n",
       "    <tr>\n",
       "      <th>count</th>\n",
       "      <td>9.400000e+02</td>\n",
       "      <td>940</td>\n",
       "      <td>940.000000</td>\n",
       "      <td>940.000000</td>\n",
       "      <td>940.000000</td>\n",
       "      <td>940.000000</td>\n",
       "      <td>940.000000</td>\n",
       "      <td>940.000000</td>\n",
       "      <td>940.000000</td>\n",
       "      <td>940.000000</td>\n",
       "      <td>940.000000</td>\n",
       "      <td>940.000000</td>\n",
       "      <td>940.000000</td>\n",
       "      <td>940.000000</td>\n",
       "      <td>940.000000</td>\n",
       "    </tr>\n",
       "    <tr>\n",
       "      <th>mean</th>\n",
       "      <td>4.855407e+09</td>\n",
       "      <td>2016-04-26 06:53:37.021276672</td>\n",
       "      <td>7637.910638</td>\n",
       "      <td>5.489702</td>\n",
       "      <td>5.475351</td>\n",
       "      <td>0.108171</td>\n",
       "      <td>1.502681</td>\n",
       "      <td>0.567543</td>\n",
       "      <td>3.340819</td>\n",
       "      <td>0.001606</td>\n",
       "      <td>21.164894</td>\n",
       "      <td>13.564894</td>\n",
       "      <td>192.812766</td>\n",
       "      <td>991.210638</td>\n",
       "      <td>2303.609574</td>\n",
       "    </tr>\n",
       "    <tr>\n",
       "      <th>min</th>\n",
       "      <td>1.503960e+09</td>\n",
       "      <td>2016-04-12 00:00:00</td>\n",
       "      <td>0.000000</td>\n",
       "      <td>0.000000</td>\n",
       "      <td>0.000000</td>\n",
       "      <td>0.000000</td>\n",
       "      <td>0.000000</td>\n",
       "      <td>0.000000</td>\n",
       "      <td>0.000000</td>\n",
       "      <td>0.000000</td>\n",
       "      <td>0.000000</td>\n",
       "      <td>0.000000</td>\n",
       "      <td>0.000000</td>\n",
       "      <td>0.000000</td>\n",
       "      <td>0.000000</td>\n",
       "    </tr>\n",
       "    <tr>\n",
       "      <th>25%</th>\n",
       "      <td>2.320127e+09</td>\n",
       "      <td>2016-04-19 00:00:00</td>\n",
       "      <td>3789.750000</td>\n",
       "      <td>2.620000</td>\n",
       "      <td>2.620000</td>\n",
       "      <td>0.000000</td>\n",
       "      <td>0.000000</td>\n",
       "      <td>0.000000</td>\n",
       "      <td>1.945000</td>\n",
       "      <td>0.000000</td>\n",
       "      <td>0.000000</td>\n",
       "      <td>0.000000</td>\n",
       "      <td>127.000000</td>\n",
       "      <td>729.750000</td>\n",
       "      <td>1828.500000</td>\n",
       "    </tr>\n",
       "    <tr>\n",
       "      <th>50%</th>\n",
       "      <td>4.445115e+09</td>\n",
       "      <td>2016-04-26 00:00:00</td>\n",
       "      <td>7405.500000</td>\n",
       "      <td>5.245000</td>\n",
       "      <td>5.245000</td>\n",
       "      <td>0.000000</td>\n",
       "      <td>0.210000</td>\n",
       "      <td>0.240000</td>\n",
       "      <td>3.365000</td>\n",
       "      <td>0.000000</td>\n",
       "      <td>4.000000</td>\n",
       "      <td>6.000000</td>\n",
       "      <td>199.000000</td>\n",
       "      <td>1057.500000</td>\n",
       "      <td>2134.000000</td>\n",
       "    </tr>\n",
       "    <tr>\n",
       "      <th>75%</th>\n",
       "      <td>6.962181e+09</td>\n",
       "      <td>2016-05-04 00:00:00</td>\n",
       "      <td>10727.000000</td>\n",
       "      <td>7.712500</td>\n",
       "      <td>7.710000</td>\n",
       "      <td>0.000000</td>\n",
       "      <td>2.052500</td>\n",
       "      <td>0.800000</td>\n",
       "      <td>4.782500</td>\n",
       "      <td>0.000000</td>\n",
       "      <td>32.000000</td>\n",
       "      <td>19.000000</td>\n",
       "      <td>264.000000</td>\n",
       "      <td>1229.500000</td>\n",
       "      <td>2793.250000</td>\n",
       "    </tr>\n",
       "    <tr>\n",
       "      <th>max</th>\n",
       "      <td>8.877689e+09</td>\n",
       "      <td>2016-05-12 00:00:00</td>\n",
       "      <td>36019.000000</td>\n",
       "      <td>28.030001</td>\n",
       "      <td>28.030001</td>\n",
       "      <td>4.942142</td>\n",
       "      <td>21.920000</td>\n",
       "      <td>6.480000</td>\n",
       "      <td>10.710000</td>\n",
       "      <td>0.110000</td>\n",
       "      <td>210.000000</td>\n",
       "      <td>143.000000</td>\n",
       "      <td>518.000000</td>\n",
       "      <td>1440.000000</td>\n",
       "      <td>4900.000000</td>\n",
       "    </tr>\n",
       "    <tr>\n",
       "      <th>std</th>\n",
       "      <td>2.424805e+09</td>\n",
       "      <td>NaN</td>\n",
       "      <td>5087.150742</td>\n",
       "      <td>3.924606</td>\n",
       "      <td>3.907276</td>\n",
       "      <td>0.619897</td>\n",
       "      <td>2.658941</td>\n",
       "      <td>0.883580</td>\n",
       "      <td>2.040655</td>\n",
       "      <td>0.007346</td>\n",
       "      <td>32.844803</td>\n",
       "      <td>19.987404</td>\n",
       "      <td>109.174700</td>\n",
       "      <td>301.267437</td>\n",
       "      <td>718.166862</td>\n",
       "    </tr>\n",
       "  </tbody>\n",
       "</table>\n",
       "</div>"
      ],
      "text/plain": [
       "                 Id                   ActivityDate    TotalSteps  \\\n",
       "count  9.400000e+02                            940    940.000000   \n",
       "mean   4.855407e+09  2016-04-26 06:53:37.021276672   7637.910638   \n",
       "min    1.503960e+09            2016-04-12 00:00:00      0.000000   \n",
       "25%    2.320127e+09            2016-04-19 00:00:00   3789.750000   \n",
       "50%    4.445115e+09            2016-04-26 00:00:00   7405.500000   \n",
       "75%    6.962181e+09            2016-05-04 00:00:00  10727.000000   \n",
       "max    8.877689e+09            2016-05-12 00:00:00  36019.000000   \n",
       "std    2.424805e+09                            NaN   5087.150742   \n",
       "\n",
       "       TotalDistance  TrackerDistance  LoggedActivitiesDistance  \\\n",
       "count     940.000000       940.000000                940.000000   \n",
       "mean        5.489702         5.475351                  0.108171   \n",
       "min         0.000000         0.000000                  0.000000   \n",
       "25%         2.620000         2.620000                  0.000000   \n",
       "50%         5.245000         5.245000                  0.000000   \n",
       "75%         7.712500         7.710000                  0.000000   \n",
       "max        28.030001        28.030001                  4.942142   \n",
       "std         3.924606         3.907276                  0.619897   \n",
       "\n",
       "       VeryActiveDistance  ModeratelyActiveDistance  LightActiveDistance  \\\n",
       "count          940.000000                940.000000           940.000000   \n",
       "mean             1.502681                  0.567543             3.340819   \n",
       "min              0.000000                  0.000000             0.000000   \n",
       "25%              0.000000                  0.000000             1.945000   \n",
       "50%              0.210000                  0.240000             3.365000   \n",
       "75%              2.052500                  0.800000             4.782500   \n",
       "max             21.920000                  6.480000            10.710000   \n",
       "std              2.658941                  0.883580             2.040655   \n",
       "\n",
       "       SedentaryActiveDistance  VeryActiveMinutes  FairlyActiveMinutes  \\\n",
       "count               940.000000         940.000000           940.000000   \n",
       "mean                  0.001606          21.164894            13.564894   \n",
       "min                   0.000000           0.000000             0.000000   \n",
       "25%                   0.000000           0.000000             0.000000   \n",
       "50%                   0.000000           4.000000             6.000000   \n",
       "75%                   0.000000          32.000000            19.000000   \n",
       "max                   0.110000         210.000000           143.000000   \n",
       "std                   0.007346          32.844803            19.987404   \n",
       "\n",
       "       LightlyActiveMinutes  SedentaryMinutes     Calories  \n",
       "count            940.000000        940.000000   940.000000  \n",
       "mean             192.812766        991.210638  2303.609574  \n",
       "min                0.000000          0.000000     0.000000  \n",
       "25%              127.000000        729.750000  1828.500000  \n",
       "50%              199.000000       1057.500000  2134.000000  \n",
       "75%              264.000000       1229.500000  2793.250000  \n",
       "max              518.000000       1440.000000  4900.000000  \n",
       "std              109.174700        301.267437   718.166862  "
      ]
     },
     "execution_count": 23,
     "metadata": {},
     "output_type": "execute_result"
    }
   ],
   "source": [
    "# Vamos usar o describe() para ter resumos estatístico de todos os dataframes e fazer uma análise rápida\n",
    "\n",
    "atividade_diaria.describe()"
   ]
  },
  {
   "cell_type": "code",
   "execution_count": 24,
   "id": "6588b38b",
   "metadata": {
    "execution": {
     "iopub.execute_input": "2024-01-16T02:15:25.752464Z",
     "iopub.status.busy": "2024-01-16T02:15:25.751754Z",
     "iopub.status.idle": "2024-01-16T02:15:25.780522Z",
     "shell.execute_reply": "2024-01-16T02:15:25.779276Z"
    },
    "papermill": {
     "duration": 0.053163,
     "end_time": "2024-01-16T02:15:25.783211",
     "exception": false,
     "start_time": "2024-01-16T02:15:25.730048",
     "status": "completed"
    },
    "tags": []
   },
   "outputs": [
    {
     "data": {
      "text/html": [
       "<div>\n",
       "<style scoped>\n",
       "    .dataframe tbody tr th:only-of-type {\n",
       "        vertical-align: middle;\n",
       "    }\n",
       "\n",
       "    .dataframe tbody tr th {\n",
       "        vertical-align: top;\n",
       "    }\n",
       "\n",
       "    .dataframe thead th {\n",
       "        text-align: right;\n",
       "    }\n",
       "</style>\n",
       "<table border=\"1\" class=\"dataframe\">\n",
       "  <thead>\n",
       "    <tr style=\"text-align: right;\">\n",
       "      <th></th>\n",
       "      <th>Id</th>\n",
       "      <th>ActivityHour</th>\n",
       "      <th>TotalIntensity</th>\n",
       "      <th>AverageIntensity</th>\n",
       "    </tr>\n",
       "  </thead>\n",
       "  <tbody>\n",
       "    <tr>\n",
       "      <th>count</th>\n",
       "      <td>2.209900e+04</td>\n",
       "      <td>22099</td>\n",
       "      <td>22099.000000</td>\n",
       "      <td>22099.000000</td>\n",
       "    </tr>\n",
       "    <tr>\n",
       "      <th>mean</th>\n",
       "      <td>4.848235e+09</td>\n",
       "      <td>2016-04-26 11:46:42.588352512</td>\n",
       "      <td>12.035341</td>\n",
       "      <td>0.200589</td>\n",
       "    </tr>\n",
       "    <tr>\n",
       "      <th>min</th>\n",
       "      <td>1.503960e+09</td>\n",
       "      <td>2016-04-12 00:00:00</td>\n",
       "      <td>0.000000</td>\n",
       "      <td>0.000000</td>\n",
       "    </tr>\n",
       "    <tr>\n",
       "      <th>25%</th>\n",
       "      <td>2.320127e+09</td>\n",
       "      <td>2016-04-19 01:00:00</td>\n",
       "      <td>0.000000</td>\n",
       "      <td>0.000000</td>\n",
       "    </tr>\n",
       "    <tr>\n",
       "      <th>50%</th>\n",
       "      <td>4.445115e+09</td>\n",
       "      <td>2016-04-26 06:00:00</td>\n",
       "      <td>3.000000</td>\n",
       "      <td>0.050000</td>\n",
       "    </tr>\n",
       "    <tr>\n",
       "      <th>75%</th>\n",
       "      <td>6.962181e+09</td>\n",
       "      <td>2016-05-03 19:00:00</td>\n",
       "      <td>16.000000</td>\n",
       "      <td>0.266667</td>\n",
       "    </tr>\n",
       "    <tr>\n",
       "      <th>max</th>\n",
       "      <td>8.877689e+09</td>\n",
       "      <td>2016-05-12 15:00:00</td>\n",
       "      <td>180.000000</td>\n",
       "      <td>3.000000</td>\n",
       "    </tr>\n",
       "    <tr>\n",
       "      <th>std</th>\n",
       "      <td>2.422500e+09</td>\n",
       "      <td>NaN</td>\n",
       "      <td>21.133110</td>\n",
       "      <td>0.352219</td>\n",
       "    </tr>\n",
       "  </tbody>\n",
       "</table>\n",
       "</div>"
      ],
      "text/plain": [
       "                 Id                   ActivityHour  TotalIntensity  \\\n",
       "count  2.209900e+04                          22099    22099.000000   \n",
       "mean   4.848235e+09  2016-04-26 11:46:42.588352512       12.035341   \n",
       "min    1.503960e+09            2016-04-12 00:00:00        0.000000   \n",
       "25%    2.320127e+09            2016-04-19 01:00:00        0.000000   \n",
       "50%    4.445115e+09            2016-04-26 06:00:00        3.000000   \n",
       "75%    6.962181e+09            2016-05-03 19:00:00       16.000000   \n",
       "max    8.877689e+09            2016-05-12 15:00:00      180.000000   \n",
       "std    2.422500e+09                            NaN       21.133110   \n",
       "\n",
       "       AverageIntensity  \n",
       "count      22099.000000  \n",
       "mean           0.200589  \n",
       "min            0.000000  \n",
       "25%            0.000000  \n",
       "50%            0.050000  \n",
       "75%            0.266667  \n",
       "max            3.000000  \n",
       "std            0.352219  "
      ]
     },
     "execution_count": 24,
     "metadata": {},
     "output_type": "execute_result"
    }
   ],
   "source": [
    "intensidade.describe()"
   ]
  },
  {
   "cell_type": "code",
   "execution_count": 25,
   "id": "b070f358",
   "metadata": {
    "execution": {
     "iopub.execute_input": "2024-01-16T02:15:25.828256Z",
     "iopub.status.busy": "2024-01-16T02:15:25.827193Z",
     "iopub.status.idle": "2024-01-16T02:15:25.850275Z",
     "shell.execute_reply": "2024-01-16T02:15:25.849101Z"
    },
    "papermill": {
     "duration": 0.048391,
     "end_time": "2024-01-16T02:15:25.853058",
     "exception": false,
     "start_time": "2024-01-16T02:15:25.804667",
     "status": "completed"
    },
    "tags": []
   },
   "outputs": [
    {
     "data": {
      "text/html": [
       "<div>\n",
       "<style scoped>\n",
       "    .dataframe tbody tr th:only-of-type {\n",
       "        vertical-align: middle;\n",
       "    }\n",
       "\n",
       "    .dataframe tbody tr th {\n",
       "        vertical-align: top;\n",
       "    }\n",
       "\n",
       "    .dataframe thead th {\n",
       "        text-align: right;\n",
       "    }\n",
       "</style>\n",
       "<table border=\"1\" class=\"dataframe\">\n",
       "  <thead>\n",
       "    <tr style=\"text-align: right;\">\n",
       "      <th></th>\n",
       "      <th>Id</th>\n",
       "      <th>ActivityHour</th>\n",
       "      <th>Calories</th>\n",
       "    </tr>\n",
       "  </thead>\n",
       "  <tbody>\n",
       "    <tr>\n",
       "      <th>count</th>\n",
       "      <td>2.209900e+04</td>\n",
       "      <td>22099</td>\n",
       "      <td>22099.000000</td>\n",
       "    </tr>\n",
       "    <tr>\n",
       "      <th>mean</th>\n",
       "      <td>4.848235e+09</td>\n",
       "      <td>2016-04-26 11:46:42.588352512</td>\n",
       "      <td>97.386760</td>\n",
       "    </tr>\n",
       "    <tr>\n",
       "      <th>min</th>\n",
       "      <td>1.503960e+09</td>\n",
       "      <td>2016-04-12 00:00:00</td>\n",
       "      <td>42.000000</td>\n",
       "    </tr>\n",
       "    <tr>\n",
       "      <th>25%</th>\n",
       "      <td>2.320127e+09</td>\n",
       "      <td>2016-04-19 01:00:00</td>\n",
       "      <td>63.000000</td>\n",
       "    </tr>\n",
       "    <tr>\n",
       "      <th>50%</th>\n",
       "      <td>4.445115e+09</td>\n",
       "      <td>2016-04-26 06:00:00</td>\n",
       "      <td>83.000000</td>\n",
       "    </tr>\n",
       "    <tr>\n",
       "      <th>75%</th>\n",
       "      <td>6.962181e+09</td>\n",
       "      <td>2016-05-03 19:00:00</td>\n",
       "      <td>108.000000</td>\n",
       "    </tr>\n",
       "    <tr>\n",
       "      <th>max</th>\n",
       "      <td>8.877689e+09</td>\n",
       "      <td>2016-05-12 15:00:00</td>\n",
       "      <td>948.000000</td>\n",
       "    </tr>\n",
       "    <tr>\n",
       "      <th>std</th>\n",
       "      <td>2.422500e+09</td>\n",
       "      <td>NaN</td>\n",
       "      <td>60.702622</td>\n",
       "    </tr>\n",
       "  </tbody>\n",
       "</table>\n",
       "</div>"
      ],
      "text/plain": [
       "                 Id                   ActivityHour      Calories\n",
       "count  2.209900e+04                          22099  22099.000000\n",
       "mean   4.848235e+09  2016-04-26 11:46:42.588352512     97.386760\n",
       "min    1.503960e+09            2016-04-12 00:00:00     42.000000\n",
       "25%    2.320127e+09            2016-04-19 01:00:00     63.000000\n",
       "50%    4.445115e+09            2016-04-26 06:00:00     83.000000\n",
       "75%    6.962181e+09            2016-05-03 19:00:00    108.000000\n",
       "max    8.877689e+09            2016-05-12 15:00:00    948.000000\n",
       "std    2.422500e+09                            NaN     60.702622"
      ]
     },
     "execution_count": 25,
     "metadata": {},
     "output_type": "execute_result"
    }
   ],
   "source": [
    "calorias.describe()"
   ]
  },
  {
   "cell_type": "code",
   "execution_count": 26,
   "id": "4280beed",
   "metadata": {
    "execution": {
     "iopub.execute_input": "2024-01-16T02:15:25.896843Z",
     "iopub.status.busy": "2024-01-16T02:15:25.896423Z",
     "iopub.status.idle": "2024-01-16T02:15:25.928122Z",
     "shell.execute_reply": "2024-01-16T02:15:25.926756Z"
    },
    "papermill": {
     "duration": 0.056374,
     "end_time": "2024-01-16T02:15:25.930739",
     "exception": false,
     "start_time": "2024-01-16T02:15:25.874365",
     "status": "completed"
    },
    "tags": []
   },
   "outputs": [
    {
     "data": {
      "text/html": [
       "<div>\n",
       "<style scoped>\n",
       "    .dataframe tbody tr th:only-of-type {\n",
       "        vertical-align: middle;\n",
       "    }\n",
       "\n",
       "    .dataframe tbody tr th {\n",
       "        vertical-align: top;\n",
       "    }\n",
       "\n",
       "    .dataframe thead th {\n",
       "        text-align: right;\n",
       "    }\n",
       "</style>\n",
       "<table border=\"1\" class=\"dataframe\">\n",
       "  <thead>\n",
       "    <tr style=\"text-align: right;\">\n",
       "      <th></th>\n",
       "      <th>Id</th>\n",
       "      <th>SleepDay</th>\n",
       "      <th>TotalSleepRecords</th>\n",
       "      <th>TotalMinutesAsleep</th>\n",
       "      <th>TotalTimeInBed</th>\n",
       "    </tr>\n",
       "  </thead>\n",
       "  <tbody>\n",
       "    <tr>\n",
       "      <th>count</th>\n",
       "      <td>4.130000e+02</td>\n",
       "      <td>413</td>\n",
       "      <td>413.000000</td>\n",
       "      <td>413.000000</td>\n",
       "      <td>413.000000</td>\n",
       "    </tr>\n",
       "    <tr>\n",
       "      <th>mean</th>\n",
       "      <td>5.000979e+09</td>\n",
       "      <td>2016-04-26 12:40:05.811137792</td>\n",
       "      <td>1.118644</td>\n",
       "      <td>419.467312</td>\n",
       "      <td>458.639225</td>\n",
       "    </tr>\n",
       "    <tr>\n",
       "      <th>min</th>\n",
       "      <td>1.503960e+09</td>\n",
       "      <td>2016-04-12 00:00:00</td>\n",
       "      <td>1.000000</td>\n",
       "      <td>58.000000</td>\n",
       "      <td>61.000000</td>\n",
       "    </tr>\n",
       "    <tr>\n",
       "      <th>25%</th>\n",
       "      <td>3.977334e+09</td>\n",
       "      <td>2016-04-19 00:00:00</td>\n",
       "      <td>1.000000</td>\n",
       "      <td>361.000000</td>\n",
       "      <td>403.000000</td>\n",
       "    </tr>\n",
       "    <tr>\n",
       "      <th>50%</th>\n",
       "      <td>4.702922e+09</td>\n",
       "      <td>2016-04-27 00:00:00</td>\n",
       "      <td>1.000000</td>\n",
       "      <td>433.000000</td>\n",
       "      <td>463.000000</td>\n",
       "    </tr>\n",
       "    <tr>\n",
       "      <th>75%</th>\n",
       "      <td>6.962181e+09</td>\n",
       "      <td>2016-05-04 00:00:00</td>\n",
       "      <td>1.000000</td>\n",
       "      <td>490.000000</td>\n",
       "      <td>526.000000</td>\n",
       "    </tr>\n",
       "    <tr>\n",
       "      <th>max</th>\n",
       "      <td>8.792010e+09</td>\n",
       "      <td>2016-05-12 00:00:00</td>\n",
       "      <td>3.000000</td>\n",
       "      <td>796.000000</td>\n",
       "      <td>961.000000</td>\n",
       "    </tr>\n",
       "    <tr>\n",
       "      <th>std</th>\n",
       "      <td>2.060360e+09</td>\n",
       "      <td>NaN</td>\n",
       "      <td>0.345521</td>\n",
       "      <td>118.344679</td>\n",
       "      <td>127.101607</td>\n",
       "    </tr>\n",
       "  </tbody>\n",
       "</table>\n",
       "</div>"
      ],
      "text/plain": [
       "                 Id                       SleepDay  TotalSleepRecords  \\\n",
       "count  4.130000e+02                            413         413.000000   \n",
       "mean   5.000979e+09  2016-04-26 12:40:05.811137792           1.118644   \n",
       "min    1.503960e+09            2016-04-12 00:00:00           1.000000   \n",
       "25%    3.977334e+09            2016-04-19 00:00:00           1.000000   \n",
       "50%    4.702922e+09            2016-04-27 00:00:00           1.000000   \n",
       "75%    6.962181e+09            2016-05-04 00:00:00           1.000000   \n",
       "max    8.792010e+09            2016-05-12 00:00:00           3.000000   \n",
       "std    2.060360e+09                            NaN           0.345521   \n",
       "\n",
       "       TotalMinutesAsleep  TotalTimeInBed  \n",
       "count          413.000000      413.000000  \n",
       "mean           419.467312      458.639225  \n",
       "min             58.000000       61.000000  \n",
       "25%            361.000000      403.000000  \n",
       "50%            433.000000      463.000000  \n",
       "75%            490.000000      526.000000  \n",
       "max            796.000000      961.000000  \n",
       "std            118.344679      127.101607  "
      ]
     },
     "execution_count": 26,
     "metadata": {},
     "output_type": "execute_result"
    }
   ],
   "source": [
    "sono.describe()"
   ]
  },
  {
   "cell_type": "code",
   "execution_count": 27,
   "id": "1fd9d850",
   "metadata": {
    "execution": {
     "iopub.execute_input": "2024-01-16T02:15:25.974910Z",
     "iopub.status.busy": "2024-01-16T02:15:25.974200Z",
     "iopub.status.idle": "2024-01-16T02:15:26.010582Z",
     "shell.execute_reply": "2024-01-16T02:15:26.009337Z"
    },
    "papermill": {
     "duration": 0.061404,
     "end_time": "2024-01-16T02:15:26.013178",
     "exception": false,
     "start_time": "2024-01-16T02:15:25.951774",
     "status": "completed"
    },
    "tags": []
   },
   "outputs": [
    {
     "data": {
      "text/html": [
       "<div>\n",
       "<style scoped>\n",
       "    .dataframe tbody tr th:only-of-type {\n",
       "        vertical-align: middle;\n",
       "    }\n",
       "\n",
       "    .dataframe tbody tr th {\n",
       "        vertical-align: top;\n",
       "    }\n",
       "\n",
       "    .dataframe thead th {\n",
       "        text-align: right;\n",
       "    }\n",
       "</style>\n",
       "<table border=\"1\" class=\"dataframe\">\n",
       "  <thead>\n",
       "    <tr style=\"text-align: right;\">\n",
       "      <th></th>\n",
       "      <th>Id</th>\n",
       "      <th>Date</th>\n",
       "      <th>WeightKg</th>\n",
       "      <th>WeightPounds</th>\n",
       "      <th>Fat</th>\n",
       "      <th>BMI</th>\n",
       "      <th>LogId</th>\n",
       "    </tr>\n",
       "  </thead>\n",
       "  <tbody>\n",
       "    <tr>\n",
       "      <th>count</th>\n",
       "      <td>6.700000e+01</td>\n",
       "      <td>67</td>\n",
       "      <td>67.000000</td>\n",
       "      <td>67.000000</td>\n",
       "      <td>2.00000</td>\n",
       "      <td>67.000000</td>\n",
       "      <td>6.700000e+01</td>\n",
       "    </tr>\n",
       "    <tr>\n",
       "      <th>mean</th>\n",
       "      <td>7.009282e+09</td>\n",
       "      <td>2016-04-27 15:39:54.283582208</td>\n",
       "      <td>72.035821</td>\n",
       "      <td>158.811801</td>\n",
       "      <td>23.50000</td>\n",
       "      <td>25.185224</td>\n",
       "      <td>1.461772e+12</td>\n",
       "    </tr>\n",
       "    <tr>\n",
       "      <th>min</th>\n",
       "      <td>1.503960e+09</td>\n",
       "      <td>2016-04-12 06:47:11</td>\n",
       "      <td>52.599998</td>\n",
       "      <td>115.963147</td>\n",
       "      <td>22.00000</td>\n",
       "      <td>21.450001</td>\n",
       "      <td>1.460444e+12</td>\n",
       "    </tr>\n",
       "    <tr>\n",
       "      <th>25%</th>\n",
       "      <td>6.962181e+09</td>\n",
       "      <td>2016-04-19 15:19:45</td>\n",
       "      <td>61.400002</td>\n",
       "      <td>135.363832</td>\n",
       "      <td>22.75000</td>\n",
       "      <td>23.959999</td>\n",
       "      <td>1.461079e+12</td>\n",
       "    </tr>\n",
       "    <tr>\n",
       "      <th>50%</th>\n",
       "      <td>6.962181e+09</td>\n",
       "      <td>2016-04-27 23:59:59</td>\n",
       "      <td>62.500000</td>\n",
       "      <td>137.788914</td>\n",
       "      <td>23.50000</td>\n",
       "      <td>24.389999</td>\n",
       "      <td>1.461802e+12</td>\n",
       "    </tr>\n",
       "    <tr>\n",
       "      <th>75%</th>\n",
       "      <td>8.877689e+09</td>\n",
       "      <td>2016-05-04 15:24:10.500000</td>\n",
       "      <td>85.049999</td>\n",
       "      <td>187.503152</td>\n",
       "      <td>24.25000</td>\n",
       "      <td>25.559999</td>\n",
       "      <td>1.462375e+12</td>\n",
       "    </tr>\n",
       "    <tr>\n",
       "      <th>max</th>\n",
       "      <td>8.877689e+09</td>\n",
       "      <td>2016-05-12 23:59:59</td>\n",
       "      <td>133.500000</td>\n",
       "      <td>294.317120</td>\n",
       "      <td>25.00000</td>\n",
       "      <td>47.540001</td>\n",
       "      <td>1.463098e+12</td>\n",
       "    </tr>\n",
       "    <tr>\n",
       "      <th>std</th>\n",
       "      <td>1.950322e+09</td>\n",
       "      <td>NaN</td>\n",
       "      <td>13.923206</td>\n",
       "      <td>30.695415</td>\n",
       "      <td>2.12132</td>\n",
       "      <td>3.066963</td>\n",
       "      <td>7.829948e+08</td>\n",
       "    </tr>\n",
       "  </tbody>\n",
       "</table>\n",
       "</div>"
      ],
      "text/plain": [
       "                 Id                           Date    WeightKg  WeightPounds  \\\n",
       "count  6.700000e+01                             67   67.000000     67.000000   \n",
       "mean   7.009282e+09  2016-04-27 15:39:54.283582208   72.035821    158.811801   \n",
       "min    1.503960e+09            2016-04-12 06:47:11   52.599998    115.963147   \n",
       "25%    6.962181e+09            2016-04-19 15:19:45   61.400002    135.363832   \n",
       "50%    6.962181e+09            2016-04-27 23:59:59   62.500000    137.788914   \n",
       "75%    8.877689e+09     2016-05-04 15:24:10.500000   85.049999    187.503152   \n",
       "max    8.877689e+09            2016-05-12 23:59:59  133.500000    294.317120   \n",
       "std    1.950322e+09                            NaN   13.923206     30.695415   \n",
       "\n",
       "            Fat        BMI         LogId  \n",
       "count   2.00000  67.000000  6.700000e+01  \n",
       "mean   23.50000  25.185224  1.461772e+12  \n",
       "min    22.00000  21.450001  1.460444e+12  \n",
       "25%    22.75000  23.959999  1.461079e+12  \n",
       "50%    23.50000  24.389999  1.461802e+12  \n",
       "75%    24.25000  25.559999  1.462375e+12  \n",
       "max    25.00000  47.540001  1.463098e+12  \n",
       "std     2.12132   3.066963  7.829948e+08  "
      ]
     },
     "execution_count": 27,
     "metadata": {},
     "output_type": "execute_result"
    }
   ],
   "source": [
    "peso.describe()"
   ]
  },
  {
   "cell_type": "markdown",
   "id": "5021e549",
   "metadata": {
    "papermill": {
     "duration": 0.021235,
     "end_time": "2024-01-16T02:15:26.056276",
     "exception": false,
     "start_time": "2024-01-16T02:15:26.035041",
     "status": "completed"
    },
    "tags": []
   },
   "source": [
    "### A partir dos resumos é possível tirar mais conclusões:\n",
    "\n",
    "* Os usuários tem uma média diária de passos de 7638, o pesquisador espanhol Borja del Pozo Cruz em matéria à BBC indica que o ideal diário são 10000 passos somados a 30 minutos de atividade física de intensidade moderada, o que reduzirá chances de doenças como câncer, demência e cardiovasculares. Estimular os usuários a bater essa meta é um caminho;\n",
    "* Os usuários tem altos períodos sedentários durante o dia, uma média de 16 horas. Além disso maioria deles tem atividade de baixa intensidade, o que indica a necessidade de uma mudança nesse aspecto;\n",
    "* Os usuários tem uma média de sono próxima a ideal de acordo com a OMS, 7 horas (420 minutos);\n",
    "* O ecossistema de produtos da Bellabeat pode oferecer um acompanhamento completo de 3 aspectos importantes da saúde: sono, hidratação e atividade física. O aplicativo deve funcionar como uma central de saúde e um companheiro no desenvolvimento dos usuários."
   ]
  },
  {
   "cell_type": "code",
   "execution_count": 28,
   "id": "5ab3294f",
   "metadata": {
    "execution": {
     "iopub.execute_input": "2024-01-16T02:15:26.101769Z",
     "iopub.status.busy": "2024-01-16T02:15:26.101341Z",
     "iopub.status.idle": "2024-01-16T02:15:26.146661Z",
     "shell.execute_reply": "2024-01-16T02:15:26.145836Z"
    },
    "papermill": {
     "duration": 0.070531,
     "end_time": "2024-01-16T02:15:26.149171",
     "exception": false,
     "start_time": "2024-01-16T02:15:26.078640",
     "status": "completed"
    },
    "tags": []
   },
   "outputs": [
    {
     "data": {
      "text/html": [
       "<div>\n",
       "<style scoped>\n",
       "    .dataframe tbody tr th:only-of-type {\n",
       "        vertical-align: middle;\n",
       "    }\n",
       "\n",
       "    .dataframe tbody tr th {\n",
       "        vertical-align: top;\n",
       "    }\n",
       "\n",
       "    .dataframe thead th {\n",
       "        text-align: right;\n",
       "    }\n",
       "</style>\n",
       "<table border=\"1\" class=\"dataframe\">\n",
       "  <thead>\n",
       "    <tr style=\"text-align: right;\">\n",
       "      <th></th>\n",
       "      <th>Id</th>\n",
       "      <th>ActivityHour</th>\n",
       "      <th>TotalIntensity</th>\n",
       "      <th>AverageIntensity</th>\n",
       "      <th>data</th>\n",
       "      <th>hora</th>\n",
       "    </tr>\n",
       "  </thead>\n",
       "  <tbody>\n",
       "    <tr>\n",
       "      <th>0</th>\n",
       "      <td>1503960366</td>\n",
       "      <td>2016-04-12 00:00:00</td>\n",
       "      <td>20</td>\n",
       "      <td>0.333333</td>\n",
       "      <td>2016-04-12</td>\n",
       "      <td>00:00:00</td>\n",
       "    </tr>\n",
       "    <tr>\n",
       "      <th>1</th>\n",
       "      <td>1503960366</td>\n",
       "      <td>2016-04-12 01:00:00</td>\n",
       "      <td>8</td>\n",
       "      <td>0.133333</td>\n",
       "      <td>2016-04-12</td>\n",
       "      <td>01:00:00</td>\n",
       "    </tr>\n",
       "    <tr>\n",
       "      <th>2</th>\n",
       "      <td>1503960366</td>\n",
       "      <td>2016-04-12 02:00:00</td>\n",
       "      <td>7</td>\n",
       "      <td>0.116667</td>\n",
       "      <td>2016-04-12</td>\n",
       "      <td>02:00:00</td>\n",
       "    </tr>\n",
       "    <tr>\n",
       "      <th>3</th>\n",
       "      <td>1503960366</td>\n",
       "      <td>2016-04-12 03:00:00</td>\n",
       "      <td>0</td>\n",
       "      <td>0.000000</td>\n",
       "      <td>2016-04-12</td>\n",
       "      <td>03:00:00</td>\n",
       "    </tr>\n",
       "    <tr>\n",
       "      <th>4</th>\n",
       "      <td>1503960366</td>\n",
       "      <td>2016-04-12 04:00:00</td>\n",
       "      <td>0</td>\n",
       "      <td>0.000000</td>\n",
       "      <td>2016-04-12</td>\n",
       "      <td>04:00:00</td>\n",
       "    </tr>\n",
       "  </tbody>\n",
       "</table>\n",
       "</div>"
      ],
      "text/plain": [
       "           Id        ActivityHour  TotalIntensity  AverageIntensity  \\\n",
       "0  1503960366 2016-04-12 00:00:00              20          0.333333   \n",
       "1  1503960366 2016-04-12 01:00:00               8          0.133333   \n",
       "2  1503960366 2016-04-12 02:00:00               7          0.116667   \n",
       "3  1503960366 2016-04-12 03:00:00               0          0.000000   \n",
       "4  1503960366 2016-04-12 04:00:00               0          0.000000   \n",
       "\n",
       "         data      hora  \n",
       "0  2016-04-12  00:00:00  \n",
       "1  2016-04-12  01:00:00  \n",
       "2  2016-04-12  02:00:00  \n",
       "3  2016-04-12  03:00:00  \n",
       "4  2016-04-12  04:00:00  "
      ]
     },
     "execution_count": 28,
     "metadata": {},
     "output_type": "execute_result"
    }
   ],
   "source": [
    "# Para analisar os horários de pico de atividade será necessário separar os horários da data em intensidade\n",
    "intensidade['data'] = intensidade['ActivityHour'].dt.date\n",
    "intensidade['hora'] = intensidade['ActivityHour'].dt.time\n",
    "intensidade.head()\n"
   ]
  },
  {
   "cell_type": "code",
   "execution_count": 29,
   "id": "bd98fd5e",
   "metadata": {
    "execution": {
     "iopub.execute_input": "2024-01-16T02:15:26.194605Z",
     "iopub.status.busy": "2024-01-16T02:15:26.193816Z",
     "iopub.status.idle": "2024-01-16T02:15:26.215822Z",
     "shell.execute_reply": "2024-01-16T02:15:26.214655Z"
    },
    "papermill": {
     "duration": 0.047474,
     "end_time": "2024-01-16T02:15:26.218240",
     "exception": false,
     "start_time": "2024-01-16T02:15:26.170766",
     "status": "completed"
    },
    "tags": []
   },
   "outputs": [
    {
     "data": {
      "text/html": [
       "<div>\n",
       "<style scoped>\n",
       "    .dataframe tbody tr th:only-of-type {\n",
       "        vertical-align: middle;\n",
       "    }\n",
       "\n",
       "    .dataframe tbody tr th {\n",
       "        vertical-align: top;\n",
       "    }\n",
       "\n",
       "    .dataframe thead th {\n",
       "        text-align: right;\n",
       "    }\n",
       "</style>\n",
       "<table border=\"1\" class=\"dataframe\">\n",
       "  <thead>\n",
       "    <tr style=\"text-align: right;\">\n",
       "      <th></th>\n",
       "      <th>Id</th>\n",
       "      <th>Date</th>\n",
       "      <th>TotalSteps</th>\n",
       "      <th>TotalDistance</th>\n",
       "      <th>TrackerDistance</th>\n",
       "      <th>LoggedActivitiesDistance</th>\n",
       "      <th>VeryActiveDistance</th>\n",
       "      <th>ModeratelyActiveDistance</th>\n",
       "      <th>LightActiveDistance</th>\n",
       "      <th>SedentaryActiveDistance</th>\n",
       "      <th>VeryActiveMinutes</th>\n",
       "      <th>FairlyActiveMinutes</th>\n",
       "      <th>LightlyActiveMinutes</th>\n",
       "      <th>SedentaryMinutes</th>\n",
       "      <th>Calories</th>\n",
       "    </tr>\n",
       "  </thead>\n",
       "  <tbody>\n",
       "    <tr>\n",
       "      <th>0</th>\n",
       "      <td>1503960366</td>\n",
       "      <td>2016-04-12</td>\n",
       "      <td>13162</td>\n",
       "      <td>8.50</td>\n",
       "      <td>8.50</td>\n",
       "      <td>0.0</td>\n",
       "      <td>1.88</td>\n",
       "      <td>0.55</td>\n",
       "      <td>6.06</td>\n",
       "      <td>0.0</td>\n",
       "      <td>25</td>\n",
       "      <td>13</td>\n",
       "      <td>328</td>\n",
       "      <td>728</td>\n",
       "      <td>1985</td>\n",
       "    </tr>\n",
       "    <tr>\n",
       "      <th>1</th>\n",
       "      <td>1503960366</td>\n",
       "      <td>2016-04-13</td>\n",
       "      <td>10735</td>\n",
       "      <td>6.97</td>\n",
       "      <td>6.97</td>\n",
       "      <td>0.0</td>\n",
       "      <td>1.57</td>\n",
       "      <td>0.69</td>\n",
       "      <td>4.71</td>\n",
       "      <td>0.0</td>\n",
       "      <td>21</td>\n",
       "      <td>19</td>\n",
       "      <td>217</td>\n",
       "      <td>776</td>\n",
       "      <td>1797</td>\n",
       "    </tr>\n",
       "    <tr>\n",
       "      <th>2</th>\n",
       "      <td>1503960366</td>\n",
       "      <td>2016-04-14</td>\n",
       "      <td>10460</td>\n",
       "      <td>6.74</td>\n",
       "      <td>6.74</td>\n",
       "      <td>0.0</td>\n",
       "      <td>2.44</td>\n",
       "      <td>0.40</td>\n",
       "      <td>3.91</td>\n",
       "      <td>0.0</td>\n",
       "      <td>30</td>\n",
       "      <td>11</td>\n",
       "      <td>181</td>\n",
       "      <td>1218</td>\n",
       "      <td>1776</td>\n",
       "    </tr>\n",
       "    <tr>\n",
       "      <th>3</th>\n",
       "      <td>1503960366</td>\n",
       "      <td>2016-04-15</td>\n",
       "      <td>9762</td>\n",
       "      <td>6.28</td>\n",
       "      <td>6.28</td>\n",
       "      <td>0.0</td>\n",
       "      <td>2.14</td>\n",
       "      <td>1.26</td>\n",
       "      <td>2.83</td>\n",
       "      <td>0.0</td>\n",
       "      <td>29</td>\n",
       "      <td>34</td>\n",
       "      <td>209</td>\n",
       "      <td>726</td>\n",
       "      <td>1745</td>\n",
       "    </tr>\n",
       "    <tr>\n",
       "      <th>4</th>\n",
       "      <td>1503960366</td>\n",
       "      <td>2016-04-16</td>\n",
       "      <td>12669</td>\n",
       "      <td>8.16</td>\n",
       "      <td>8.16</td>\n",
       "      <td>0.0</td>\n",
       "      <td>2.71</td>\n",
       "      <td>0.41</td>\n",
       "      <td>5.04</td>\n",
       "      <td>0.0</td>\n",
       "      <td>36</td>\n",
       "      <td>10</td>\n",
       "      <td>221</td>\n",
       "      <td>773</td>\n",
       "      <td>1863</td>\n",
       "    </tr>\n",
       "  </tbody>\n",
       "</table>\n",
       "</div>"
      ],
      "text/plain": [
       "           Id       Date  TotalSteps  TotalDistance  TrackerDistance  \\\n",
       "0  1503960366 2016-04-12       13162           8.50             8.50   \n",
       "1  1503960366 2016-04-13       10735           6.97             6.97   \n",
       "2  1503960366 2016-04-14       10460           6.74             6.74   \n",
       "3  1503960366 2016-04-15        9762           6.28             6.28   \n",
       "4  1503960366 2016-04-16       12669           8.16             8.16   \n",
       "\n",
       "   LoggedActivitiesDistance  VeryActiveDistance  ModeratelyActiveDistance  \\\n",
       "0                       0.0                1.88                      0.55   \n",
       "1                       0.0                1.57                      0.69   \n",
       "2                       0.0                2.44                      0.40   \n",
       "3                       0.0                2.14                      1.26   \n",
       "4                       0.0                2.71                      0.41   \n",
       "\n",
       "   LightActiveDistance  SedentaryActiveDistance  VeryActiveMinutes  \\\n",
       "0                 6.06                      0.0                 25   \n",
       "1                 4.71                      0.0                 21   \n",
       "2                 3.91                      0.0                 30   \n",
       "3                 2.83                      0.0                 29   \n",
       "4                 5.04                      0.0                 36   \n",
       "\n",
       "   FairlyActiveMinutes  LightlyActiveMinutes  SedentaryMinutes  Calories  \n",
       "0                   13                   328               728      1985  \n",
       "1                   19                   217               776      1797  \n",
       "2                   11                   181              1218      1776  \n",
       "3                   34                   209               726      1745  \n",
       "4                   10                   221               773      1863  "
      ]
     },
     "execution_count": 29,
     "metadata": {},
     "output_type": "execute_result"
    }
   ],
   "source": [
    "# Para criar algumas visualizações será necessário unir os dataframes de atividade diária e sono\n",
    "# Para isso vamos primeiro mudar os nomes das colunas relativas as datas nos dois para o mesmo\n",
    "\n",
    "atividade_diaria.rename(columns = {'ActivityDate': 'Date'}, inplace = True)\n",
    "atividade_diaria.head()"
   ]
  },
  {
   "cell_type": "code",
   "execution_count": 30,
   "id": "44bf27f1",
   "metadata": {
    "execution": {
     "iopub.execute_input": "2024-01-16T02:15:26.264455Z",
     "iopub.status.busy": "2024-01-16T02:15:26.263265Z",
     "iopub.status.idle": "2024-01-16T02:15:26.276602Z",
     "shell.execute_reply": "2024-01-16T02:15:26.275444Z"
    },
    "papermill": {
     "duration": 0.039057,
     "end_time": "2024-01-16T02:15:26.279142",
     "exception": false,
     "start_time": "2024-01-16T02:15:26.240085",
     "status": "completed"
    },
    "tags": []
   },
   "outputs": [
    {
     "data": {
      "text/html": [
       "<div>\n",
       "<style scoped>\n",
       "    .dataframe tbody tr th:only-of-type {\n",
       "        vertical-align: middle;\n",
       "    }\n",
       "\n",
       "    .dataframe tbody tr th {\n",
       "        vertical-align: top;\n",
       "    }\n",
       "\n",
       "    .dataframe thead th {\n",
       "        text-align: right;\n",
       "    }\n",
       "</style>\n",
       "<table border=\"1\" class=\"dataframe\">\n",
       "  <thead>\n",
       "    <tr style=\"text-align: right;\">\n",
       "      <th></th>\n",
       "      <th>Id</th>\n",
       "      <th>Date</th>\n",
       "      <th>TotalSleepRecords</th>\n",
       "      <th>TotalMinutesAsleep</th>\n",
       "      <th>TotalTimeInBed</th>\n",
       "    </tr>\n",
       "  </thead>\n",
       "  <tbody>\n",
       "    <tr>\n",
       "      <th>0</th>\n",
       "      <td>1503960366</td>\n",
       "      <td>2016-04-12</td>\n",
       "      <td>1</td>\n",
       "      <td>327</td>\n",
       "      <td>346</td>\n",
       "    </tr>\n",
       "    <tr>\n",
       "      <th>1</th>\n",
       "      <td>1503960366</td>\n",
       "      <td>2016-04-13</td>\n",
       "      <td>2</td>\n",
       "      <td>384</td>\n",
       "      <td>407</td>\n",
       "    </tr>\n",
       "    <tr>\n",
       "      <th>2</th>\n",
       "      <td>1503960366</td>\n",
       "      <td>2016-04-15</td>\n",
       "      <td>1</td>\n",
       "      <td>412</td>\n",
       "      <td>442</td>\n",
       "    </tr>\n",
       "    <tr>\n",
       "      <th>3</th>\n",
       "      <td>1503960366</td>\n",
       "      <td>2016-04-16</td>\n",
       "      <td>2</td>\n",
       "      <td>340</td>\n",
       "      <td>367</td>\n",
       "    </tr>\n",
       "    <tr>\n",
       "      <th>4</th>\n",
       "      <td>1503960366</td>\n",
       "      <td>2016-04-17</td>\n",
       "      <td>1</td>\n",
       "      <td>700</td>\n",
       "      <td>712</td>\n",
       "    </tr>\n",
       "  </tbody>\n",
       "</table>\n",
       "</div>"
      ],
      "text/plain": [
       "           Id       Date  TotalSleepRecords  TotalMinutesAsleep  \\\n",
       "0  1503960366 2016-04-12                  1                 327   \n",
       "1  1503960366 2016-04-13                  2                 384   \n",
       "2  1503960366 2016-04-15                  1                 412   \n",
       "3  1503960366 2016-04-16                  2                 340   \n",
       "4  1503960366 2016-04-17                  1                 700   \n",
       "\n",
       "   TotalTimeInBed  \n",
       "0             346  \n",
       "1             407  \n",
       "2             442  \n",
       "3             367  \n",
       "4             712  "
      ]
     },
     "execution_count": 30,
     "metadata": {},
     "output_type": "execute_result"
    }
   ],
   "source": [
    "sono.rename(columns = {'SleepDay': 'Date'}, inplace = True)\n",
    "sono.head()"
   ]
  },
  {
   "cell_type": "code",
   "execution_count": 31,
   "id": "61c4d422",
   "metadata": {
    "execution": {
     "iopub.execute_input": "2024-01-16T02:15:26.325386Z",
     "iopub.status.busy": "2024-01-16T02:15:26.324976Z",
     "iopub.status.idle": "2024-01-16T02:15:26.357791Z",
     "shell.execute_reply": "2024-01-16T02:15:26.356902Z"
    },
    "papermill": {
     "duration": 0.058772,
     "end_time": "2024-01-16T02:15:26.360071",
     "exception": false,
     "start_time": "2024-01-16T02:15:26.301299",
     "status": "completed"
    },
    "tags": []
   },
   "outputs": [
    {
     "data": {
      "text/html": [
       "<div>\n",
       "<style scoped>\n",
       "    .dataframe tbody tr th:only-of-type {\n",
       "        vertical-align: middle;\n",
       "    }\n",
       "\n",
       "    .dataframe tbody tr th {\n",
       "        vertical-align: top;\n",
       "    }\n",
       "\n",
       "    .dataframe thead th {\n",
       "        text-align: right;\n",
       "    }\n",
       "</style>\n",
       "<table border=\"1\" class=\"dataframe\">\n",
       "  <thead>\n",
       "    <tr style=\"text-align: right;\">\n",
       "      <th></th>\n",
       "      <th>Id</th>\n",
       "      <th>Date</th>\n",
       "      <th>TotalSteps</th>\n",
       "      <th>TotalDistance</th>\n",
       "      <th>TrackerDistance</th>\n",
       "      <th>LoggedActivitiesDistance</th>\n",
       "      <th>VeryActiveDistance</th>\n",
       "      <th>ModeratelyActiveDistance</th>\n",
       "      <th>LightActiveDistance</th>\n",
       "      <th>SedentaryActiveDistance</th>\n",
       "      <th>VeryActiveMinutes</th>\n",
       "      <th>FairlyActiveMinutes</th>\n",
       "      <th>LightlyActiveMinutes</th>\n",
       "      <th>SedentaryMinutes</th>\n",
       "      <th>Calories</th>\n",
       "      <th>TotalSleepRecords</th>\n",
       "      <th>TotalMinutesAsleep</th>\n",
       "      <th>TotalTimeInBed</th>\n",
       "    </tr>\n",
       "  </thead>\n",
       "  <tbody>\n",
       "    <tr>\n",
       "      <th>0</th>\n",
       "      <td>1503960366</td>\n",
       "      <td>2016-04-12</td>\n",
       "      <td>13162</td>\n",
       "      <td>8.50</td>\n",
       "      <td>8.50</td>\n",
       "      <td>0.0</td>\n",
       "      <td>1.88</td>\n",
       "      <td>0.55</td>\n",
       "      <td>6.06</td>\n",
       "      <td>0.0</td>\n",
       "      <td>25</td>\n",
       "      <td>13</td>\n",
       "      <td>328</td>\n",
       "      <td>728</td>\n",
       "      <td>1985</td>\n",
       "      <td>1</td>\n",
       "      <td>327</td>\n",
       "      <td>346</td>\n",
       "    </tr>\n",
       "    <tr>\n",
       "      <th>1</th>\n",
       "      <td>1503960366</td>\n",
       "      <td>2016-04-13</td>\n",
       "      <td>10735</td>\n",
       "      <td>6.97</td>\n",
       "      <td>6.97</td>\n",
       "      <td>0.0</td>\n",
       "      <td>1.57</td>\n",
       "      <td>0.69</td>\n",
       "      <td>4.71</td>\n",
       "      <td>0.0</td>\n",
       "      <td>21</td>\n",
       "      <td>19</td>\n",
       "      <td>217</td>\n",
       "      <td>776</td>\n",
       "      <td>1797</td>\n",
       "      <td>2</td>\n",
       "      <td>384</td>\n",
       "      <td>407</td>\n",
       "    </tr>\n",
       "    <tr>\n",
       "      <th>2</th>\n",
       "      <td>1503960366</td>\n",
       "      <td>2016-04-15</td>\n",
       "      <td>9762</td>\n",
       "      <td>6.28</td>\n",
       "      <td>6.28</td>\n",
       "      <td>0.0</td>\n",
       "      <td>2.14</td>\n",
       "      <td>1.26</td>\n",
       "      <td>2.83</td>\n",
       "      <td>0.0</td>\n",
       "      <td>29</td>\n",
       "      <td>34</td>\n",
       "      <td>209</td>\n",
       "      <td>726</td>\n",
       "      <td>1745</td>\n",
       "      <td>1</td>\n",
       "      <td>412</td>\n",
       "      <td>442</td>\n",
       "    </tr>\n",
       "    <tr>\n",
       "      <th>3</th>\n",
       "      <td>1503960366</td>\n",
       "      <td>2016-04-16</td>\n",
       "      <td>12669</td>\n",
       "      <td>8.16</td>\n",
       "      <td>8.16</td>\n",
       "      <td>0.0</td>\n",
       "      <td>2.71</td>\n",
       "      <td>0.41</td>\n",
       "      <td>5.04</td>\n",
       "      <td>0.0</td>\n",
       "      <td>36</td>\n",
       "      <td>10</td>\n",
       "      <td>221</td>\n",
       "      <td>773</td>\n",
       "      <td>1863</td>\n",
       "      <td>2</td>\n",
       "      <td>340</td>\n",
       "      <td>367</td>\n",
       "    </tr>\n",
       "    <tr>\n",
       "      <th>4</th>\n",
       "      <td>1503960366</td>\n",
       "      <td>2016-04-17</td>\n",
       "      <td>9705</td>\n",
       "      <td>6.48</td>\n",
       "      <td>6.48</td>\n",
       "      <td>0.0</td>\n",
       "      <td>3.19</td>\n",
       "      <td>0.78</td>\n",
       "      <td>2.51</td>\n",
       "      <td>0.0</td>\n",
       "      <td>38</td>\n",
       "      <td>20</td>\n",
       "      <td>164</td>\n",
       "      <td>539</td>\n",
       "      <td>1728</td>\n",
       "      <td>1</td>\n",
       "      <td>700</td>\n",
       "      <td>712</td>\n",
       "    </tr>\n",
       "  </tbody>\n",
       "</table>\n",
       "</div>"
      ],
      "text/plain": [
       "           Id       Date  TotalSteps  TotalDistance  TrackerDistance  \\\n",
       "0  1503960366 2016-04-12       13162           8.50             8.50   \n",
       "1  1503960366 2016-04-13       10735           6.97             6.97   \n",
       "2  1503960366 2016-04-15        9762           6.28             6.28   \n",
       "3  1503960366 2016-04-16       12669           8.16             8.16   \n",
       "4  1503960366 2016-04-17        9705           6.48             6.48   \n",
       "\n",
       "   LoggedActivitiesDistance  VeryActiveDistance  ModeratelyActiveDistance  \\\n",
       "0                       0.0                1.88                      0.55   \n",
       "1                       0.0                1.57                      0.69   \n",
       "2                       0.0                2.14                      1.26   \n",
       "3                       0.0                2.71                      0.41   \n",
       "4                       0.0                3.19                      0.78   \n",
       "\n",
       "   LightActiveDistance  SedentaryActiveDistance  VeryActiveMinutes  \\\n",
       "0                 6.06                      0.0                 25   \n",
       "1                 4.71                      0.0                 21   \n",
       "2                 2.83                      0.0                 29   \n",
       "3                 5.04                      0.0                 36   \n",
       "4                 2.51                      0.0                 38   \n",
       "\n",
       "   FairlyActiveMinutes  LightlyActiveMinutes  SedentaryMinutes  Calories  \\\n",
       "0                   13                   328               728      1985   \n",
       "1                   19                   217               776      1797   \n",
       "2                   34                   209               726      1745   \n",
       "3                   10                   221               773      1863   \n",
       "4                   20                   164               539      1728   \n",
       "\n",
       "   TotalSleepRecords  TotalMinutesAsleep  TotalTimeInBed  \n",
       "0                  1                 327             346  \n",
       "1                  2                 384             407  \n",
       "2                  1                 412             442  \n",
       "3                  2                 340             367  \n",
       "4                  1                 700             712  "
      ]
     },
     "execution_count": 31,
     "metadata": {},
     "output_type": "execute_result"
    }
   ],
   "source": [
    "# Agora o pd.merge() para juntar os dataframes\n",
    "\n",
    "dados_completos = pd.merge(atividade_diaria, sono, on = ('Id', 'Date'), how = 'inner')\n",
    "dados_completos.head()"
   ]
  },
  {
   "cell_type": "markdown",
   "id": "4eaf163f",
   "metadata": {
    "papermill": {
     "duration": 0.023969,
     "end_time": "2024-01-16T02:15:26.407434",
     "exception": false,
     "start_time": "2024-01-16T02:15:26.383465",
     "status": "completed"
    },
    "tags": []
   },
   "source": [
    "## Compartilhar: visualizar as conclusões de forma gráfica"
   ]
  },
  {
   "cell_type": "code",
   "execution_count": 32,
   "id": "756e5915",
   "metadata": {
    "execution": {
     "iopub.execute_input": "2024-01-16T02:15:26.454370Z",
     "iopub.status.busy": "2024-01-16T02:15:26.453376Z",
     "iopub.status.idle": "2024-01-16T02:15:28.188370Z",
     "shell.execute_reply": "2024-01-16T02:15:28.187175Z"
    },
    "papermill": {
     "duration": 1.761691,
     "end_time": "2024-01-16T02:15:28.191500",
     "exception": false,
     "start_time": "2024-01-16T02:15:26.429809",
     "status": "completed"
    },
    "tags": []
   },
   "outputs": [
    {
     "data": {
      "text/plain": [
       "Text(0.5, 1.0, 'Intensidade das atividades durante o dia')"
      ]
     },
     "execution_count": 32,
     "metadata": {},
     "output_type": "execute_result"
    },
    {
     "data": {
      "image/png": "[encoded data removed]",
      "text/plain": [
       "<Figure size 640x480 with 1 Axes>"
      ]
     },
     "metadata": {},
     "output_type": "display_data"
    }
   ],
   "source": [
    "# Primeiro os horários de pico de atividade durante o dia\n",
    "# Foi utilizado um gráfico de barras\n",
    "\n",
    "sns.barplot(data = intensidade,\n",
    "            x = 'TotalIntensity',\n",
    "            y = 'hora')\n",
    "\n",
    "plt.xlabel('Intensidade total')\n",
    "plt.ylabel('Horários')\n",
    "plt.title('Intensidade das atividades durante o dia')\n"
   ]
  },
  {
   "cell_type": "markdown",
   "id": "e46b7ea8",
   "metadata": {
    "papermill": {
     "duration": 0.023564,
     "end_time": "2024-01-16T02:15:28.239434",
     "exception": false,
     "start_time": "2024-01-16T02:15:28.215870",
     "status": "completed"
    },
    "tags": []
   },
   "source": [
    "Horários de maior intensidade de atividades, indicam bons horários para o aplicativo notificar os usuários para bater uma meta diária de 30 minutos de atividade física moderada. Na próxima visualização iremos ver a relação entre os passos dados e os minutos dormidos."
   ]
  },
  {
   "cell_type": "code",
   "execution_count": 33,
   "id": "00cce036",
   "metadata": {
    "execution": {
     "iopub.execute_input": "2024-01-16T02:15:28.289806Z",
     "iopub.status.busy": "2024-01-16T02:15:28.289005Z",
     "iopub.status.idle": "2024-01-16T02:15:28.660846Z",
     "shell.execute_reply": "2024-01-16T02:15:28.659905Z"
    },
    "papermill": {
     "duration": 0.399934,
     "end_time": "2024-01-16T02:15:28.663485",
     "exception": false,
     "start_time": "2024-01-16T02:15:28.263551",
     "status": "completed"
    },
    "tags": []
   },
   "outputs": [
    {
     "data": {
      "text/plain": [
       "Text(0.5, 1.0, 'Minutos de sono x Passos totais')"
      ]
     },
     "execution_count": 33,
     "metadata": {},
     "output_type": "execute_result"
    },
    {
     "data": {
      "image/png": "[encoded data removed]",
      "text/plain": [
       "<Figure size 640x480 with 1 Axes>"
      ]
     },
     "metadata": {},
     "output_type": "display_data"
    }
   ],
   "source": [
    "# Agora serão utilizados gráficos de dispersão\n",
    "\n",
    "sns.scatterplot(data = dados_completos,\n",
    "               x = 'TotalMinutesAsleep',\n",
    "               y = 'TotalSteps',\n",
    "               color = 'navy')\n",
    "\n",
    "plt.xlabel('Total de minutos dormidos')\n",
    "plt.ylabel('Passos totais')\n",
    "plt.title('Minutos de sono x Passos totais')"
   ]
  },
  {
   "cell_type": "markdown",
   "id": "747f5468",
   "metadata": {
    "papermill": {
     "duration": 0.025607,
     "end_time": "2024-01-16T02:15:28.713641",
     "exception": false,
     "start_time": "2024-01-16T02:15:28.688034",
     "status": "completed"
    },
    "tags": []
   },
   "source": [
    "É possível identificar uma relação entre a qualidade do sono e a proximidade dos 10mil passos diários."
   ]
  },
  {
   "cell_type": "code",
   "execution_count": 34,
   "id": "416a2ec4",
   "metadata": {
    "execution": {
     "iopub.execute_input": "2024-01-16T02:15:28.769116Z",
     "iopub.status.busy": "2024-01-16T02:15:28.768710Z",
     "iopub.status.idle": "2024-01-16T02:15:29.157789Z",
     "shell.execute_reply": "2024-01-16T02:15:29.156605Z"
    },
    "papermill": {
     "duration": 0.420365,
     "end_time": "2024-01-16T02:15:29.160257",
     "exception": false,
     "start_time": "2024-01-16T02:15:28.739892",
     "status": "completed"
    },
    "tags": []
   },
   "outputs": [
    {
     "data": {
      "text/plain": [
       "Text(0.5, 1.0, 'Minutos sendetários x Total de minutos dormidos')"
      ]
     },
     "execution_count": 34,
     "metadata": {},
     "output_type": "execute_result"
    },
    {
     "data": {
      "image/png": "[encoded data removed]",
      "text/plain": [
       "<Figure size 640x480 with 1 Axes>"
      ]
     },
     "metadata": {},
     "output_type": "display_data"
    }
   ],
   "source": [
    "sns.scatterplot(data = dados_completos,\n",
    "               x = 'SedentaryMinutes',\n",
    "               y = 'TotalMinutesAsleep',\n",
    "               color = 'yellowgreen')\n",
    "\n",
    "plt.xlabel('Minutos sedentários')\n",
    "plt.ylabel('Total de minutos dormidos')\n",
    "plt.title('Minutos sendetários x Total de minutos dormidos')"
   ]
  },
  {
   "cell_type": "markdown",
   "id": "9b8d5f75",
   "metadata": {
    "papermill": {
     "duration": 0.025899,
     "end_time": "2024-01-16T02:15:29.211976",
     "exception": false,
     "start_time": "2024-01-16T02:15:29.186077",
     "status": "completed"
    },
    "tags": []
   },
   "source": [
    "Existe uma clara relação entre a baixa qualidade do sono e os minutos sedentários."
   ]
  },
  {
   "cell_type": "code",
   "execution_count": 35,
   "id": "5fd42ba3",
   "metadata": {
    "execution": {
     "iopub.execute_input": "2024-01-16T02:15:29.268200Z",
     "iopub.status.busy": "2024-01-16T02:15:29.267543Z",
     "iopub.status.idle": "2024-01-16T02:15:29.609420Z",
     "shell.execute_reply": "2024-01-16T02:15:29.608195Z"
    },
    "papermill": {
     "duration": 0.374587,
     "end_time": "2024-01-16T02:15:29.612511",
     "exception": false,
     "start_time": "2024-01-16T02:15:29.237924",
     "status": "completed"
    },
    "tags": []
   },
   "outputs": [
    {
     "data": {
      "text/plain": [
       "Text(0.5, 1.0, 'Total de passos x Calorias queimadas')"
      ]
     },
     "execution_count": 35,
     "metadata": {},
     "output_type": "execute_result"
    },
    {
     "data": {
      "image/png": "[encoded data removed]",
      "text/plain": [
       "<Figure size 640x480 with 1 Axes>"
      ]
     },
     "metadata": {},
     "output_type": "display_data"
    }
   ],
   "source": [
    "sns.scatterplot(data = dados_completos,\n",
    "               x = 'TotalSteps',\n",
    "               y = 'Calories',\n",
    "               color = 'crimson')\n",
    "\n",
    "plt.xlabel('Total de passos')\n",
    "plt.ylabel('Calorias queimadas')\n",
    "plt.title('Total de passos x Calorias queimadas')"
   ]
  },
  {
   "cell_type": "markdown",
   "id": "2609d844",
   "metadata": {
    "papermill": {
     "duration": 0.027384,
     "end_time": "2024-01-16T02:15:29.667322",
     "exception": false,
     "start_time": "2024-01-16T02:15:29.639938",
     "status": "completed"
    },
    "tags": []
   },
   "source": [
    "Existe também uma relação entre o total de passos diários e a queima de calorias."
   ]
  },
  {
   "cell_type": "markdown",
   "id": "753e969f",
   "metadata": {
    "papermill": {
     "duration": 0.027728,
     "end_time": "2024-01-16T02:15:29.722155",
     "exception": false,
     "start_time": "2024-01-16T02:15:29.694427",
     "status": "completed"
    },
    "tags": []
   },
   "source": [
    "## Agir: entregar os insights da análise\n",
    "\n",
    "Ao concluir a análise, chegamos a alguns insights que podem contribuir com as estratégias de marketing que podem contribuir com o aplicativo Bellabeat.\n",
    "\n",
    "O aplicativo Bellabeat pode se tornar um companheiro da rotina de seu público alvo, ao acompanhar e oferecer orientações diárias de bem-estar e foco na saúde. Vamos a algumas medidas sugeridas:\n",
    "\n",
    "* Em relação ao marketing: Vender o App Bellabeat como um parceiro na melhora da saúde, oferecendo acompanhamento completo de peso, atividade física, hidratação e sono. E sutilmente incentivar a compra dos produtos parte do ecossistema Bellabeat;\n",
    "\n",
    "* O app durante o registro, e através de notifcações pode incentivar o cadastro de peso, altura e idade para traçar metas de hidratação, consumo de calorias diárias e exercícios físicos para alcançar um objetivo de medidas;\n",
    "\n",
    "* Outra meta que pode ser traçada é a de 10.000 passos diários somados aos 30 minutos de atividade física moderada diariamente, que pode ser incentivada através também de notificação, no caso da atividade física moderada as notifcações devem ser feitas nos horários de pico anteriormente mostrados;\n",
    "\n",
    "* O app deve monitorar o excesso de tempo sedentário, e através de notificações buscar encorajar os usuários a baixerem os momentos de sedentarismo."
   ]
  }
 ],
 "metadata": {
  "kaggle": {
   "accelerator": "none",
   "dataSources": [
    {
     "datasetId": 1041311,
     "sourceId": 1752235,
     "sourceType": "datasetVersion"
    }
   ],
   "dockerImageVersionId": 30635,
   "isGpuEnabled": false,
   "isInternetEnabled": true,
   "language": "python",
   "sourceType": "notebook"
  },
  "kernelspec": {
   "display_name": "Python 3",
   "language": "python",
   "name": "python3"
  },
  "language_info": {
   "codemirror_mode": {
    "name": "ipython",
    "version": 3
   },
   "file_extension": ".py",
   "mimetype": "text/x-python",
   "name": "python",
   "nbconvert_exporter": "python",
   "pygments_lexer": "ipython3",
   "version": "3.10.12"
  },
  "papermill": {
   "default_parameters": {},
   "duration": 18.244931,
   "end_time": "2024-01-16T02:15:30.371695",
   "environment_variables": {},
   "exception": null,
   "input_path": "__notebook__.ipynb",
   "output_path": "__notebook__.ipynb",
   "parameters": {},
   "start_time": "2024-01-16T02:15:12.126764",
   "version": "2.4.0"
  }
 },
 "nbformat": 4,
 "nbformat_minor": 5
}
